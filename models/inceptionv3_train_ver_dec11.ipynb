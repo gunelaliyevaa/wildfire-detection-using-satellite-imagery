{
 "nbformat": 4,
 "nbformat_minor": 0,
 "metadata": {
  "colab": {
   "provenance": [],
   "gpuType": "T4"
  },
  "kernelspec": {
   "name": "python3",
   "display_name": "Python 3"
  },
  "language_info": {
   "name": "python"
  },
  "accelerator": "GPU"
 },
 "cells": [
  {
   "cell_type": "markdown",
   "source": [
    "# Importing Libraries and Setting Up Environment"
   ],
   "metadata": {
    "id": "Wa-2e7k-6Rxu"
   }
  },
  {
   "cell_type": "code",
   "source": [
    "import os\n",
    "import numpy as np\n",
    "import matplotlib.pyplot as plt\n",
    "from tensorflow.keras.preprocessing.image import ImageDataGenerator\n",
    "from tensorflow.keras.applications import InceptionV3\n",
    "from tensorflow.keras.layers import Dense, Flatten\n",
    "from tensorflow.keras.models import Sequential\n",
    "from tensorflow.keras.callbacks import EarlyStopping, ReduceLROnPlateau\n",
    "from sklearn.metrics import confusion_matrix, classification_report, f1_score, precision_score, recall_score\n",
    "import tensorflow as tf\n"
   ],
   "metadata": {
    "id": "l9wceAX86mee"
   },
   "execution_count": null,
   "outputs": []
  },
  {
   "cell_type": "markdown",
   "source": [
    "# Dataset Paths and Visualization"
   ],
   "metadata": {
    "id": "3BQmabAM6sAW"
   }
  },
  {
   "cell_type": "code",
   "source": [
    "# Define paths to the dataset\n",
    "fire_path = '/content/drive/MyDrive/sdp_wildfire_satellite_shared/azerbaijan_wildfire_imagery/kaggle_fire_dataset_sample/train_dataset/train-wildfire'\n",
    "nofire_path = '/content/drive/MyDrive/sdp_wildfire_satellite_shared/azerbaijan_wildfire_imagery/kaggle_fire_dataset_sample/train_dataset/train-nowildfire'\n",
    "\n",
    "# Count images in each class\n",
    "fire_images = len(os.listdir(fire_path))\n",
    "nofire_images = len(os.listdir(nofire_path))\n",
    "\n",
    "# Print dataset information\n",
    "print(f\"Fire Images: {fire_images}\")\n",
    "print(f\"No Fire Images: {nofire_images}\")"
   ],
   "metadata": {
    "colab": {
     "base_uri": "https://localhost:8080/"
    },
    "id": "oQpy8SaX6wPX",
    "outputId": "010c7461-60ee-437d-ce4d-537707186116"
   },
   "execution_count": null,
   "outputs": [
    {
     "output_type": "stream",
     "name": "stdout",
     "text": [
      "Fire Images: 421\n",
      "No Fire Images: 420\n"
     ]
    }
   ]
  },
  {
   "cell_type": "markdown",
   "source": [
    "# Data Preprocessing"
   ],
   "metadata": {
    "id": "caBW5LAd7J5G"
   }
  },
  {
   "cell_type": "code",
   "source": [
    "# Define ImageDataGenerator for augmentation\n",
    "datagen = ImageDataGenerator(\n",
    "    rescale=1.0/255,  # Normalize pixel values\n",
    "    rotation_range=20,\n",
    "    width_shift_range=0.2,\n",
    "    height_shift_range=0.2,\n",
    "    shear_range=0.2,\n",
    "    zoom_range=0.2,\n",
    "    horizontal_flip=True,\n",
    "    validation_split=0.2  # Split\n",
    ")\n",
    "\n",
    "# Load data from directories\n",
    "train_generator = datagen.flow_from_directory(\n",
    "    '/content/drive/MyDrive/sdp_wildfire_satellite_shared/azerbaijan_wildfire_imagery/kaggle_fire_dataset_sample/train_dataset',\n",
    "    target_size=(350, 350),\n",
    "    batch_size=32,\n",
    "    class_mode='binary',\n",
    "    subset='training'\n",
    ")\n",
    "\n",
    "val_generator = datagen.flow_from_directory(\n",
    "    '/content/drive/MyDrive/sdp_wildfire_satellite_shared/azerbaijan_wildfire_imagery/kaggle_fire_dataset_sample/train_dataset',\n",
    "    target_size=(350, 350),\n",
    "    batch_size=32,\n",
    "    class_mode='binary',\n",
    "    subset='validation'\n",
    ")\n"
   ],
   "metadata": {
    "colab": {
     "base_uri": "https://localhost:8080/"
    },
    "id": "0urZpF6_8Ekx",
    "outputId": "c492dc9a-a9b8-4fc3-cb24-31a726aa74ee"
   },
   "execution_count": null,
   "outputs": [
    {
     "output_type": "stream",
     "name": "stdout",
     "text": [
      "Found 672 images belonging to 2 classes.\n",
      "Found 168 images belonging to 2 classes.\n"
     ]
    }
   ]
  },
  {
   "cell_type": "markdown",
   "source": [
    "# Model Architecture and Compilation"
   ],
   "metadata": {
    "id": "imlV01zK8YgE"
   }
  },
  {
   "cell_type": "code",
   "source": [
    "# Load pretrained InceptionV3 model\n",
    "base_model = InceptionV3(weights='imagenet', include_top=False, input_shape=(350, 350, 3))\n",
    "\n",
    "# Freeze base model layers\n",
    "base_model.trainable = False\n",
    "\n",
    "# Define new model\n",
    "model = Sequential([\n",
    "    base_model,\n",
    "    Flatten(),\n",
    "    Dense(256, activation='relu'),\n",
    "    Dense(1, activation='sigmoid')  # Binary classification\n",
    "])\n",
    "\n",
    "# Compile model\n",
    "model.compile(\n",
    "    optimizer='adam',\n",
    "    loss='binary_crossentropy',\n",
    "    metrics=['accuracy']\n",
    ")"
   ],
   "metadata": {
    "id": "g7SbMz_P8dN2",
    "colab": {
     "base_uri": "https://localhost:8080/"
    },
    "outputId": "8e50dca2-13fc-4852-f17a-1641ea546f62"
   },
   "execution_count": null,
   "outputs": [
    {
     "output_type": "stream",
     "name": "stdout",
     "text": [
      "Downloading data from https://storage.googleapis.com/tensorflow/keras-applications/inception_v3/inception_v3_weights_tf_dim_ordering_tf_kernels_notop.h5\n",
      "\u001B[1m87910968/87910968\u001B[0m \u001B[32m━━━━━━━━━━━━━━━━━━━━\u001B[0m\u001B[37m\u001B[0m \u001B[1m0s\u001B[0m 0us/step\n"
     ]
    }
   ]
  },
  {
   "cell_type": "markdown",
   "source": [
    "# Training the Model"
   ],
   "metadata": {
    "id": "CNXAkZJr8tJU"
   }
  },
  {
   "cell_type": "code",
   "source": [
    "# Define callbacks\n",
    "early_stopping = EarlyStopping(monitor='val_loss', patience=3, restore_best_weights=True)\n",
    "lr_scheduler = ReduceLROnPlateau(monitor='val_loss', factor=0.5, patience=2, min_lr=1e-6)\n",
    "\n",
    "# Train model\n",
    "history = model.fit(\n",
    "    train_generator,\n",
    "    validation_data=val_generator,\n",
    "    epochs=20,\n",
    "    callbacks=[early_stopping, lr_scheduler]\n",
    ")\n",
    "\n",
    "# Plot training/validation accuracy\n",
    "plt.plot(history.history['accuracy'], label='Training Accuracy')\n",
    "plt.plot(history.history['val_accuracy'], label='Validation Accuracy')\n",
    "plt.legend()\n",
    "plt.title('Training and Validation Accuracy')\n",
    "plt.show()\n"
   ],
   "metadata": {
    "colab": {
     "base_uri": "https://localhost:8080/"
    },
    "id": "SdryN_0s8wXm",
    "outputId": "15daeed8-502b-4ff5-ffbf-dd9a1d8e5a7b"
   },
   "execution_count": null,
   "outputs": [
    {
     "output_type": "stream",
     "name": "stdout",
     "text": [
      "Epoch 1/20\n"
     ]
    },
    {
     "output_type": "stream",
     "name": "stderr",
     "text": [
      "/usr/local/lib/python3.10/dist-packages/keras/src/trainers/data_adapters/py_dataset_adapter.py:122: UserWarning: Your `PyDataset` class should call `super().__init__(**kwargs)` in its constructor. `**kwargs` can include `workers`, `use_multiprocessing`, `max_queue_size`. Do not pass these arguments to `fit()`, as they will be ignored.\n",
      "  self._warn_if_super_not_called()\n"
     ]
    },
    {
     "output_type": "stream",
     "name": "stdout",
     "text": [
      "\u001B[1m21/21\u001B[0m \u001B[32m━━━━━━━━━━━━━━━━━━━━\u001B[0m\u001B[37m\u001B[0m \u001B[1m423s\u001B[0m 19s/step - accuracy: 0.7081 - loss: 16.4144 - val_accuracy: 0.9048 - val_loss: 2.7484 - learning_rate: 0.0010\n",
      "Epoch 2/20\n",
      "\u001B[1m21/21\u001B[0m \u001B[32m━━━━━━━━━━━━━━━━━━━━\u001B[0m\u001B[37m\u001B[0m \u001B[1m356s\u001B[0m 17s/step - accuracy: 0.9223 - loss: 2.9689 - val_accuracy: 0.9167 - val_loss: 1.4325 - learning_rate: 0.0010\n",
      "Epoch 3/20\n",
      "\u001B[1m21/21\u001B[0m \u001B[32m━━━━━━━━━━━━━━━━━━━━\u001B[0m\u001B[37m\u001B[0m \u001B[1m379s\u001B[0m 16s/step - accuracy: 0.9300 - loss: 1.9248 - val_accuracy: 0.9464 - val_loss: 1.0863 - learning_rate: 0.0010\n",
      "Epoch 4/20\n",
      "\u001B[1m21/21\u001B[0m \u001B[32m━━━━━━━━━━━━━━━━━━━━\u001B[0m\u001B[37m\u001B[0m \u001B[1m378s\u001B[0m 16s/step - accuracy: 0.9566 - loss: 0.7790 - val_accuracy: 0.9226 - val_loss: 1.8973 - learning_rate: 0.0010\n",
      "Epoch 5/20\n",
      "\u001B[1m21/21\u001B[0m \u001B[32m━━━━━━━━━━━━━━━━━━━━\u001B[0m\u001B[37m\u001B[0m \u001B[1m351s\u001B[0m 16s/step - accuracy: 0.9067 - loss: 2.0459 - val_accuracy: 0.9405 - val_loss: 2.2531 - learning_rate: 0.0010\n",
      "Epoch 6/20\n",
      "\u001B[1m13/21\u001B[0m \u001B[32m━━━━━━━━━━━━\u001B[0m\u001B[37m━━━━━━━━\u001B[0m \u001B[1m1:45\u001B[0m 13s/step - accuracy: 0.9552 - loss: 1.6977"
     ]
    }
   ]
  },
  {
   "cell_type": "markdown",
   "source": [
    "# Fine-Tuning the Model"
   ],
   "metadata": {
    "id": "7M2X5YdKNFTv"
   }
  },
  {
   "cell_type": "code",
   "source": [
    "# Unfreeze layers in the base model\n",
    "base_model.trainable = True\n",
    "\n",
    "# Recompile model with a lower learning rate\n",
    "model.compile(\n",
    "    optimizer=tf.keras.optimizers.Adam(learning_rate=1e-5),\n",
    "    loss='binary_crossentropy',\n",
    "    metrics=['accuracy']\n",
    ")\n",
    "\n",
    "# Fine-tune the model\n",
    "history_ft = model.fit(\n",
    "    train_generator,\n",
    "    validation_data=val_generator,\n",
    "    epochs=10,\n",
    "    callbacks=[early_stopping, lr_scheduler]\n",
    ")\n",
    "\n",
    "# Plot fine-tuning accuracy\n",
    "plt.plot(history_ft.history['accuracy'], label='Training Accuracy (Fine-tune)')\n",
    "plt.plot(history_ft.history['val_accuracy'], label='Validation Accuracy (Fine-tune)')\n",
    "plt.legend()\n",
    "plt.title('Fine-Tuning Accuracy')\n",
    "plt.show()\n",
    "\n"
   ],
   "metadata": {
    "colab": {
     "base_uri": "https://localhost:8080/",
     "height": 561
    },
    "id": "eAKxtW7lNNrZ",
    "outputId": "caccf5ba-c211-418e-deb6-a14943f331c9"
   },
   "execution_count": null,
   "outputs": [
    {
     "output_type": "stream",
     "name": "stdout",
     "text": [
      "Epoch 1/10\n",
      "\u001B[1m21/21\u001B[0m \u001B[32m━━━━━━━━━━━━━━━━━━━━\u001B[0m\u001B[37m\u001B[0m \u001B[1m135s\u001B[0m 2s/step - accuracy: 0.8734 - loss: 0.5297 - val_accuracy: 0.9405 - val_loss: 0.1616 - learning_rate: 1.0000e-05\n",
      "Epoch 2/10\n",
      "\u001B[1m21/21\u001B[0m \u001B[32m━━━━━━━━━━━━━━━━━━━━\u001B[0m\u001B[37m\u001B[0m \u001B[1m77s\u001B[0m 1s/step - accuracy: 0.9140 - loss: 0.3426 - val_accuracy: 0.9524 - val_loss: 0.1990 - learning_rate: 1.0000e-05\n",
      "Epoch 3/10\n",
      "\u001B[1m21/21\u001B[0m \u001B[32m━━━━━━━━━━━━━━━━━━━━\u001B[0m\u001B[37m\u001B[0m \u001B[1m44s\u001B[0m 1s/step - accuracy: 0.9520 - loss: 0.1660 - val_accuracy: 0.9286 - val_loss: 0.1919 - learning_rate: 1.0000e-05\n"
     ]
    },
    {
     "output_type": "display_data",
     "data": {
      "text/plain": [
       "<Figure size 640x480 with 1 Axes>"
      ],
      "image/png": "[encoded data removed]"
     },
     "metadata": {}
    }
   ]
  },
  {
   "cell_type": "markdown",
   "source": [
    "## Testing the Model"
   ],
   "metadata": {
    "id": "SZMR6aPluYgS"
   }
  },
  {
   "cell_type": "code",
   "source": [
    "from tensorflow.keras.preprocessing.image import load_img, img_to_array\n",
    "\n",
    "# Preprocessing function for test images\n",
    "def preprocess_image(image_path, target_size=(350, 350)):\n",
    "    img = load_img(image_path, target_size=target_size)\n",
    "    img_array = img_to_array(img) / 255.0  # Normalize\n",
    "    return np.expand_dims(img_array, axis=0)\n",
    "\n",
    "# Test folder\n",
    "test_folder = '/content/drive/MyDrive/sdp_wildfire_satellite_shared/azerbaijan_wildfire_imagery/kaggle_fire_dataset_sample/test_dataset'\n",
    "test_images = os.listdir(test_folder)\n",
    "\n",
    "# Test each image and print results\n",
    "for img_name in test_images:\n",
    "    img_path = os.path.join(test_folder, img_name)\n",
    "    img_array = preprocess_image(img_path)\n",
    "    prediction = model.predict(img_array)[0][0]\n",
    "    predicted_class = 'Fire' if prediction > 0.5 else 'No Fire'\n",
    "    confidence = prediction if prediction > 0.5 else 1 - prediction\n",
    "\n",
    "    print(f\"Image: {img_name}, Predicted: {predicted_class}, Confidence: {confidence:.2f}\")\n"
   ],
   "metadata": {
    "colab": {
     "base_uri": "https://localhost:8080/"
    },
    "id": "08nrnngkudR1",
    "outputId": "c2ea1a91-9ce2-4bf2-fd7c-fb7db6c25120"
   },
   "execution_count": null,
   "outputs": [
    {
     "output_type": "stream",
     "name": "stdout",
     "text": [
      "\u001B[1m1/1\u001B[0m \u001B[32m━━━━━━━━━━━━━━━━━━━━\u001B[0m\u001B[37m\u001B[0m \u001B[1m0s\u001B[0m 40ms/step\n",
      "Image: Копия -65.28623,48.07195.jpg, Predicted: Fire, Confidence: 1.00\n",
      "\u001B[1m1/1\u001B[0m \u001B[32m━━━━━━━━━━━━━━━━━━━━\u001B[0m\u001B[37m\u001B[0m \u001B[1m0s\u001B[0m 32ms/step\n",
      "Image: Копия -65.52272,49.2485.jpg, Predicted: Fire, Confidence: 1.00\n",
      "\u001B[1m1/1\u001B[0m \u001B[32m━━━━━━━━━━━━━━━━━━━━\u001B[0m\u001B[37m\u001B[0m \u001B[1m0s\u001B[0m 37ms/step\n",
      "Image: Копия -65.29028,48.05756.jpg, Predicted: Fire, Confidence: 1.00\n",
      "\u001B[1m1/1\u001B[0m \u001B[32m━━━━━━━━━━━━━━━━━━━━\u001B[0m\u001B[37m\u001B[0m \u001B[1m0s\u001B[0m 33ms/step\n",
      "Image: Копия -65.37765,48.05935.jpg, Predicted: Fire, Confidence: 1.00\n",
      "\u001B[1m1/1\u001B[0m \u001B[32m━━━━━━━━━━━━━━━━━━━━\u001B[0m\u001B[37m\u001B[0m \u001B[1m0s\u001B[0m 35ms/step\n",
      "Image: Копия -65.43008,48.02248.jpg, Predicted: Fire, Confidence: 1.00\n",
      "\u001B[1m1/1\u001B[0m \u001B[32m━━━━━━━━━━━━━━━━━━━━\u001B[0m\u001B[37m\u001B[0m \u001B[1m0s\u001B[0m 35ms/step\n",
      "Image: Копия -65.34674,48.02428.jpg, Predicted: Fire, Confidence: 1.00\n",
      "\u001B[1m1/1\u001B[0m \u001B[32m━━━━━━━━━━━━━━━━━━━━\u001B[0m\u001B[37m\u001B[0m \u001B[1m0s\u001B[0m 49ms/step\n",
      "Image: Копия -65.42863,48.10132.jpg, Predicted: Fire, Confidence: 1.00\n",
      "\u001B[1m1/1\u001B[0m \u001B[32m━━━━━━━━━━━━━━━━━━━━\u001B[0m\u001B[37m\u001B[0m \u001B[1m0s\u001B[0m 32ms/step\n",
      "Image: Копия -65.18435,48.88819.jpg, Predicted: Fire, Confidence: 1.00\n",
      "\u001B[1m1/1\u001B[0m \u001B[32m━━━━━━━━━━━━━━━━━━━━\u001B[0m\u001B[37m\u001B[0m \u001B[1m0s\u001B[0m 46ms/step\n",
      "Image: Копия -65.54923,48.7518.jpg, Predicted: Fire, Confidence: 1.00\n",
      "\u001B[1m1/1\u001B[0m \u001B[32m━━━━━━━━━━━━━━━━━━━━\u001B[0m\u001B[37m\u001B[0m \u001B[1m0s\u001B[0m 56ms/step\n",
      "Image: Копия -65.34931,48.122.jpg, Predicted: Fire, Confidence: 1.00\n",
      "\u001B[1m1/1\u001B[0m \u001B[32m━━━━━━━━━━━━━━━━━━━━\u001B[0m\u001B[37m\u001B[0m \u001B[1m0s\u001B[0m 36ms/step\n",
      "Image: Копия -65.92174,48.20084.jpg, Predicted: No Fire, Confidence: 0.97\n",
      "\u001B[1m1/1\u001B[0m \u001B[32m━━━━━━━━━━━━━━━━━━━━\u001B[0m\u001B[37m\u001B[0m \u001B[1m0s\u001B[0m 34ms/step\n",
      "Image: Копия -65.99149,50.67566.jpg, Predicted: Fire, Confidence: 1.00\n",
      "\u001B[1m1/1\u001B[0m \u001B[32m━━━━━━━━━━━━━━━━━━━━\u001B[0m\u001B[37m\u001B[0m \u001B[1m0s\u001B[0m 38ms/step\n",
      "Image: Копия -65.75856,48.58783.jpg, Predicted: Fire, Confidence: 1.00\n",
      "\u001B[1m1/1\u001B[0m \u001B[32m━━━━━━━━━━━━━━━━━━━━\u001B[0m\u001B[37m\u001B[0m \u001B[1m0s\u001B[0m 39ms/step\n",
      "Image: Копия -65.92978,49.21703.jpg, Predicted: Fire, Confidence: 1.00\n",
      "\u001B[1m1/1\u001B[0m \u001B[32m━━━━━━━━━━━━━━━━━━━━\u001B[0m\u001B[37m\u001B[0m \u001B[1m0s\u001B[0m 37ms/step\n",
      "Image: Копия -65.55232,48.17116.jpg, Predicted: Fire, Confidence: 1.00\n",
      "\u001B[1m1/1\u001B[0m \u001B[32m━━━━━━━━━━━━━━━━━━━━\u001B[0m\u001B[37m\u001B[0m \u001B[1m0s\u001B[0m 34ms/step\n",
      "Image: Копия -65.83942,48.42476.jpg, Predicted: Fire, Confidence: 1.00\n",
      "\u001B[1m1/1\u001B[0m \u001B[32m━━━━━━━━━━━━━━━━━━━━\u001B[0m\u001B[37m\u001B[0m \u001B[1m0s\u001B[0m 49ms/step\n",
      "Image: Копия -65.55716,49.24491.jpg, Predicted: Fire, Confidence: 1.00\n",
      "\u001B[1m1/1\u001B[0m \u001B[32m━━━━━━━━━━━━━━━━━━━━\u001B[0m\u001B[37m\u001B[0m \u001B[1m0s\u001B[0m 39ms/step\n",
      "Image: Копия -65.65093,51.04317.jpg, Predicted: Fire, Confidence: 1.00\n",
      "\u001B[1m1/1\u001B[0m \u001B[32m━━━━━━━━━━━━━━━━━━━━\u001B[0m\u001B[37m\u001B[0m \u001B[1m0s\u001B[0m 36ms/step\n",
      "Image: Копия -65.96583,50.82374.jpg, Predicted: Fire, Confidence: 0.95\n",
      "\u001B[1m1/1\u001B[0m \u001B[32m━━━━━━━━━━━━━━━━━━━━\u001B[0m\u001B[37m\u001B[0m \u001B[1m0s\u001B[0m 35ms/step\n",
      "Image: Копия -65.80859,49.1292.jpg, Predicted: Fire, Confidence: 1.00\n",
      "\u001B[1m1/1\u001B[0m \u001B[32m━━━━━━━━━━━━━━━━━━━━\u001B[0m\u001B[37m\u001B[0m \u001B[1m0s\u001B[0m 45ms/step\n",
      "Image: Копия -64.95805,48.35222.jpg, Predicted: Fire, Confidence: 1.00\n",
      "\u001B[1m1/1\u001B[0m \u001B[32m━━━━━━━━━━━━━━━━━━━━\u001B[0m\u001B[37m\u001B[0m \u001B[1m0s\u001B[0m 44ms/step\n",
      "Image: Копия -64.94224,49.16247.jpg, Predicted: Fire, Confidence: 1.00\n",
      "\u001B[1m1/1\u001B[0m \u001B[32m━━━━━━━━━━━━━━━━━━━━\u001B[0m\u001B[37m\u001B[0m \u001B[1m0s\u001B[0m 33ms/step\n",
      "Image: Копия -64.93812,49.15708.jpg, Predicted: Fire, Confidence: 1.00\n",
      "\u001B[1m1/1\u001B[0m \u001B[32m━━━━━━━━━━━━━━━━━━━━\u001B[0m\u001B[37m\u001B[0m \u001B[1m0s\u001B[0m 29ms/step\n",
      "Image: Копия -64.91939,48.83513.jpg, Predicted: Fire, Confidence: 0.90\n",
      "\u001B[1m1/1\u001B[0m \u001B[32m━━━━━━━━━━━━━━━━━━━━\u001B[0m\u001B[37m\u001B[0m \u001B[1m0s\u001B[0m 32ms/step\n",
      "Image: Копия -64.90704,49.14898.jpg, Predicted: Fire, Confidence: 1.00\n",
      "\u001B[1m1/1\u001B[0m \u001B[32m━━━━━━━━━━━━━━━━━━━━\u001B[0m\u001B[37m\u001B[0m \u001B[1m0s\u001B[0m 25ms/step\n",
      "Image: Копия -64.87612,48.28597.jpg, Predicted: Fire, Confidence: 1.00\n",
      "\u001B[1m1/1\u001B[0m \u001B[32m━━━━━━━━━━━━━━━━━━━━\u001B[0m\u001B[37m\u001B[0m \u001B[1m0s\u001B[0m 24ms/step\n",
      "Image: Копия -64.87539,49.18375.jpg, Predicted: Fire, Confidence: 1.00\n",
      "\u001B[1m1/1\u001B[0m \u001B[32m━━━━━━━━━━━━━━━━━━━━\u001B[0m\u001B[37m\u001B[0m \u001B[1m0s\u001B[0m 24ms/step\n",
      "Image: Копия -64.96627,48.19814.jpg, Predicted: Fire, Confidence: 0.99\n",
      "\u001B[1m1/1\u001B[0m \u001B[32m━━━━━━━━━━━━━━━━━━━━\u001B[0m\u001B[37m\u001B[0m \u001B[1m0s\u001B[0m 22ms/step\n",
      "Image: Копия -64.89816,50.83184.jpg, Predicted: Fire, Confidence: 1.00\n",
      "\u001B[1m1/1\u001B[0m \u001B[32m━━━━━━━━━━━━━━━━━━━━\u001B[0m\u001B[37m\u001B[0m \u001B[1m0s\u001B[0m 26ms/step\n",
      "Image: Копия -65.6,48.82.jpg, Predicted: Fire, Confidence: 1.00\n",
      "\u001B[1m1/1\u001B[0m \u001B[32m━━━━━━━━━━━━━━━━━━━━\u001B[0m\u001B[37m\u001B[0m \u001B[1m0s\u001B[0m 22ms/step\n",
      "Image: Копия -65.2562,51.8283.jpg, Predicted: Fire, Confidence: 1.00\n",
      "\u001B[1m1/1\u001B[0m \u001B[32m━━━━━━━━━━━━━━━━━━━━\u001B[0m\u001B[37m\u001B[0m \u001B[1m0s\u001B[0m 25ms/step\n",
      "Image: Копия -65.3778,51.3194.jpg, Predicted: Fire, Confidence: 1.00\n",
      "\u001B[1m1/1\u001B[0m \u001B[32m━━━━━━━━━━━━━━━━━━━━\u001B[0m\u001B[37m\u001B[0m \u001B[1m0s\u001B[0m 22ms/step\n",
      "Image: Копия -65.3114,48.99761.jpg, Predicted: Fire, Confidence: 1.00\n",
      "\u001B[1m1/1\u001B[0m \u001B[32m━━━━━━━━━━━━━━━━━━━━\u001B[0m\u001B[37m\u001B[0m \u001B[1m0s\u001B[0m 28ms/step\n",
      "Image: Копия -65.1123,51.05126.jpg, Predicted: Fire, Confidence: 0.60\n",
      "\u001B[1m1/1\u001B[0m \u001B[32m━━━━━━━━━━━━━━━━━━━━\u001B[0m\u001B[37m\u001B[0m \u001B[1m0s\u001B[0m 35ms/step\n",
      "Image: Копия -65.3161,51.4008.jpg, Predicted: Fire, Confidence: 1.00\n",
      "\u001B[1m1/1\u001B[0m \u001B[32m━━━━━━━━━━━━━━━━━━━━\u001B[0m\u001B[37m\u001B[0m \u001B[1m0s\u001B[0m 25ms/step\n",
      "Image: Копия -65.11769,48.622.jpg, Predicted: Fire, Confidence: 1.00\n",
      "\u001B[1m1/1\u001B[0m \u001B[32m━━━━━━━━━━━━━━━━━━━━\u001B[0m\u001B[37m\u001B[0m \u001B[1m0s\u001B[0m 23ms/step\n",
      "Image: Копия -65.17929,48.59323.jpg, Predicted: Fire, Confidence: 1.00\n",
      "\u001B[1m1/1\u001B[0m \u001B[32m━━━━━━━━━━━━━━━━━━━━\u001B[0m\u001B[37m\u001B[0m \u001B[1m0s\u001B[0m 24ms/step\n",
      "Image: Копия -65.6656,48.0986.jpg, Predicted: No Fire, Confidence: 0.99\n",
      "\u001B[1m1/1\u001B[0m \u001B[32m━━━━━━━━━━━━━━━━━━━━\u001B[0m\u001B[37m\u001B[0m \u001B[1m0s\u001B[0m 23ms/step\n",
      "Image: Копия -65.14757,48.74761.jpg, Predicted: Fire, Confidence: 0.95\n",
      "\u001B[1m1/1\u001B[0m \u001B[32m━━━━━━━━━━━━━━━━━━━━\u001B[0m\u001B[37m\u001B[0m \u001B[1m0s\u001B[0m 23ms/step\n",
      "Image: Копия -65.17711,49.16337.jpg, Predicted: Fire, Confidence: 1.00\n",
      "\u001B[1m1/1\u001B[0m \u001B[32m━━━━━━━━━━━━━━━━━━━━\u001B[0m\u001B[37m\u001B[0m \u001B[1m0s\u001B[0m 32ms/step\n",
      "Image: Копия -64.77174,48.92206.jpg, Predicted: Fire, Confidence: 1.00\n",
      "\u001B[1m1/1\u001B[0m \u001B[32m━━━━━━━━━━━━━━━━━━━━\u001B[0m\u001B[37m\u001B[0m \u001B[1m0s\u001B[0m 23ms/step\n",
      "Image: Копия -64.84034,48.71253.jpg, Predicted: Fire, Confidence: 1.00\n",
      "\u001B[1m1/1\u001B[0m \u001B[32m━━━━━━━━━━━━━━━━━━━━\u001B[0m\u001B[37m\u001B[0m \u001B[1m0s\u001B[0m 28ms/step\n",
      "Image: Копия -64.62835,48.91427.jpg, Predicted: Fire, Confidence: 1.00\n",
      "\u001B[1m1/1\u001B[0m \u001B[32m━━━━━━━━━━━━━━━━━━━━\u001B[0m\u001B[37m\u001B[0m \u001B[1m0s\u001B[0m 24ms/step\n",
      "Image: Копия -64.85751,49.17566.jpg, Predicted: Fire, Confidence: 1.00\n",
      "\u001B[1m1/1\u001B[0m \u001B[32m━━━━━━━━━━━━━━━━━━━━\u001B[0m\u001B[37m\u001B[0m \u001B[1m0s\u001B[0m 22ms/step\n",
      "Image: Копия -64.85984,48.34233.jpg, Predicted: Fire, Confidence: 1.00\n",
      "\u001B[1m1/1\u001B[0m \u001B[32m━━━━━━━━━━━━━━━━━━━━\u001B[0m\u001B[37m\u001B[0m \u001B[1m0s\u001B[0m 23ms/step\n",
      "Image: Копия -64.76987,48.23861.jpg, Predicted: Fire, Confidence: 1.00\n",
      "\u001B[1m1/1\u001B[0m \u001B[32m━━━━━━━━━━━━━━━━━━━━\u001B[0m\u001B[37m\u001B[0m \u001B[1m0s\u001B[0m 23ms/step\n",
      "Image: Копия -64.66531,48.65708.jpg, Predicted: Fire, Confidence: 1.00\n",
      "\u001B[1m1/1\u001B[0m \u001B[32m━━━━━━━━━━━━━━━━━━━━\u001B[0m\u001B[37m\u001B[0m \u001B[1m0s\u001B[0m 25ms/step\n",
      "Image: Копия -64.84903,50.33873.jpg, Predicted: Fire, Confidence: 1.00\n",
      "\u001B[1m1/1\u001B[0m \u001B[32m━━━━━━━━━━━━━━━━━━━━\u001B[0m\u001B[37m\u001B[0m \u001B[1m0s\u001B[0m 24ms/step\n",
      "Image: Копия -64.76853,48.22962.jpg, Predicted: Fire, Confidence: 1.00\n",
      "\u001B[1m1/1\u001B[0m \u001B[32m━━━━━━━━━━━━━━━━━━━━\u001B[0m\u001B[37m\u001B[0m \u001B[1m0s\u001B[0m 27ms/step\n",
      "Image: Копия -64.81577,48.27338.jpg, Predicted: Fire, Confidence: 0.99\n",
      "\u001B[1m1/1\u001B[0m \u001B[32m━━━━━━━━━━━━━━━━━━━━\u001B[0m\u001B[37m\u001B[0m \u001B[1m0s\u001B[0m 24ms/step\n",
      "Image: Копия -73.82958,45.466787.jpg, Predicted: No Fire, Confidence: 1.00\n",
      "\u001B[1m1/1\u001B[0m \u001B[32m━━━━━━━━━━━━━━━━━━━━\u001B[0m\u001B[37m\u001B[0m \u001B[1m0s\u001B[0m 30ms/step\n",
      "Image: Копия -73.410756,45.457343.jpg, Predicted: No Fire, Confidence: 1.00\n",
      "\u001B[1m1/1\u001B[0m \u001B[32m━━━━━━━━━━━━━━━━━━━━\u001B[0m\u001B[37m\u001B[0m \u001B[1m0s\u001B[0m 28ms/step\n",
      "Image: Копия -73.79841,45.572399.jpg, Predicted: No Fire, Confidence: 1.00\n",
      "\u001B[1m1/1\u001B[0m \u001B[32m━━━━━━━━━━━━━━━━━━━━\u001B[0m\u001B[37m\u001B[0m \u001B[1m0s\u001B[0m 23ms/step\n",
      "Image: Копия -73.89377,45.452124.jpg, Predicted: No Fire, Confidence: 1.00\n",
      "\u001B[1m1/1\u001B[0m \u001B[32m━━━━━━━━━━━━━━━━━━━━\u001B[0m\u001B[37m\u001B[0m \u001B[1m0s\u001B[0m 26ms/step\n",
      "Image: Копия -73.86609,45.458595.jpg, Predicted: No Fire, Confidence: 1.00\n",
      "\u001B[1m1/1\u001B[0m \u001B[32m━━━━━━━━━━━━━━━━━━━━\u001B[0m\u001B[37m\u001B[0m \u001B[1m0s\u001B[0m 22ms/step\n",
      "Image: Копия -73.87738,45.463913.jpg, Predicted: No Fire, Confidence: 1.00\n",
      "\u001B[1m1/1\u001B[0m \u001B[32m━━━━━━━━━━━━━━━━━━━━\u001B[0m\u001B[37m\u001B[0m \u001B[1m0s\u001B[0m 24ms/step\n",
      "Image: Копия -73.84044,45.579753.jpg, Predicted: No Fire, Confidence: 1.00\n",
      "\u001B[1m1/1\u001B[0m \u001B[32m━━━━━━━━━━━━━━━━━━━━\u001B[0m\u001B[37m\u001B[0m \u001B[1m0s\u001B[0m 23ms/step\n",
      "Image: Копия -73.86728,45.616238.jpg, Predicted: No Fire, Confidence: 1.00\n",
      "\u001B[1m1/1\u001B[0m \u001B[32m━━━━━━━━━━━━━━━━━━━━\u001B[0m\u001B[37m\u001B[0m \u001B[1m0s\u001B[0m 23ms/step\n",
      "Image: Копия -73.89161,45.573836.jpg, Predicted: No Fire, Confidence: 1.00\n",
      "\u001B[1m1/1\u001B[0m \u001B[32m━━━━━━━━━━━━━━━━━━━━\u001B[0m\u001B[37m\u001B[0m \u001B[1m0s\u001B[0m 29ms/step\n",
      "Image: Копия -73.88104,45.575009.jpg, Predicted: No Fire, Confidence: 1.00\n",
      "\u001B[1m1/1\u001B[0m \u001B[32m━━━━━━━━━━━━━━━━━━━━\u001B[0m\u001B[37m\u001B[0m \u001B[1m0s\u001B[0m 29ms/step\n",
      "Image: Копия -73.419579,45.561.jpg, Predicted: No Fire, Confidence: 1.00\n",
      "\u001B[1m1/1\u001B[0m \u001B[32m━━━━━━━━━━━━━━━━━━━━\u001B[0m\u001B[37m\u001B[0m \u001B[1m0s\u001B[0m 29ms/step\n",
      "Image: Копия -73.423874,45.457453.jpg, Predicted: No Fire, Confidence: 1.00\n",
      "\u001B[1m1/1\u001B[0m \u001B[32m━━━━━━━━━━━━━━━━━━━━\u001B[0m\u001B[37m\u001B[0m \u001B[1m0s\u001B[0m 26ms/step\n",
      "Image: Копия -73.422174,45.571505.jpg, Predicted: No Fire, Confidence: 1.00\n",
      "\u001B[1m1/1\u001B[0m \u001B[32m━━━━━━━━━━━━━━━━━━━━\u001B[0m\u001B[37m\u001B[0m \u001B[1m0s\u001B[0m 23ms/step\n",
      "Image: Копия -73.414005,45.569014.jpg, Predicted: No Fire, Confidence: 1.00\n",
      "\u001B[1m1/1\u001B[0m \u001B[32m━━━━━━━━━━━━━━━━━━━━\u001B[0m\u001B[37m\u001B[0m \u001B[1m0s\u001B[0m 23ms/step\n",
      "Image: Копия -73.419208,45.529061.jpg, Predicted: No Fire, Confidence: 1.00\n",
      "\u001B[1m1/1\u001B[0m \u001B[32m━━━━━━━━━━━━━━━━━━━━\u001B[0m\u001B[37m\u001B[0m \u001B[1m0s\u001B[0m 22ms/step\n",
      "Image: Копия -73.420674,45.45547.jpg, Predicted: No Fire, Confidence: 1.00\n",
      "\u001B[1m1/1\u001B[0m \u001B[32m━━━━━━━━━━━━━━━━━━━━\u001B[0m\u001B[37m\u001B[0m \u001B[1m0s\u001B[0m 23ms/step\n",
      "Image: Копия -73.416962,45.610183.jpg, Predicted: No Fire, Confidence: 1.00\n",
      "\u001B[1m1/1\u001B[0m \u001B[32m━━━━━━━━━━━━━━━━━━━━\u001B[0m\u001B[37m\u001B[0m \u001B[1m0s\u001B[0m 23ms/step\n",
      "Image: Копия -73.413811,45.436142.jpg, Predicted: No Fire, Confidence: 1.00\n",
      "\u001B[1m1/1\u001B[0m \u001B[32m━━━━━━━━━━━━━━━━━━━━\u001B[0m\u001B[37m\u001B[0m \u001B[1m0s\u001B[0m 22ms/step\n",
      "Image: Копия -73.418144,45.533425.jpg, Predicted: No Fire, Confidence: 1.00\n",
      "\u001B[1m1/1\u001B[0m \u001B[32m━━━━━━━━━━━━━━━━━━━━\u001B[0m\u001B[37m\u001B[0m \u001B[1m0s\u001B[0m 31ms/step\n",
      "Image: Копия -73.413891,45.561129.jpg, Predicted: No Fire, Confidence: 1.00\n",
      "\u001B[1m1/1\u001B[0m \u001B[32m━━━━━━━━━━━━━━━━━━━━\u001B[0m\u001B[37m\u001B[0m \u001B[1m0s\u001B[0m 30ms/step\n",
      "Image: Копия -73.426072,45.638179.jpg, Predicted: No Fire, Confidence: 0.96\n",
      "\u001B[1m1/1\u001B[0m \u001B[32m━━━━━━━━━━━━━━━━━━━━\u001B[0m\u001B[37m\u001B[0m \u001B[1m0s\u001B[0m 27ms/step\n",
      "Image: Копия -73.425331,45.504871.jpg, Predicted: No Fire, Confidence: 1.00\n",
      "\u001B[1m1/1\u001B[0m \u001B[32m━━━━━━━━━━━━━━━━━━━━\u001B[0m\u001B[37m\u001B[0m \u001B[1m0s\u001B[0m 23ms/step\n",
      "Image: Копия -73.433134,45.594907.jpg, Predicted: No Fire, Confidence: 1.00\n",
      "\u001B[1m1/1\u001B[0m \u001B[32m━━━━━━━━━━━━━━━━━━━━\u001B[0m\u001B[37m\u001B[0m \u001B[1m0s\u001B[0m 23ms/step\n",
      "Image: Копия -73.424636,45.618262.jpg, Predicted: No Fire, Confidence: 1.00\n",
      "\u001B[1m1/1\u001B[0m \u001B[32m━━━━━━━━━━━━━━━━━━━━\u001B[0m\u001B[37m\u001B[0m \u001B[1m0s\u001B[0m 23ms/step\n",
      "Image: Копия -73.425943,45.510712.jpg, Predicted: No Fire, Confidence: 1.00\n",
      "\u001B[1m1/1\u001B[0m \u001B[32m━━━━━━━━━━━━━━━━━━━━\u001B[0m\u001B[37m\u001B[0m \u001B[1m0s\u001B[0m 22ms/step\n",
      "Image: Копия -73.427775,45.470172.jpg, Predicted: No Fire, Confidence: 1.00\n",
      "\u001B[1m1/1\u001B[0m \u001B[32m━━━━━━━━━━━━━━━━━━━━\u001B[0m\u001B[37m\u001B[0m \u001B[1m0s\u001B[0m 23ms/step\n",
      "Image: Копия -73.431359,45.582274.jpg, Predicted: No Fire, Confidence: 1.00\n",
      "\u001B[1m1/1\u001B[0m \u001B[32m━━━━━━━━━━━━━━━━━━━━\u001B[0m\u001B[37m\u001B[0m \u001B[1m0s\u001B[0m 24ms/step\n",
      "Image: Копия -73.429283,45.583172.jpg, Predicted: No Fire, Confidence: 1.00\n",
      "\u001B[1m1/1\u001B[0m \u001B[32m━━━━━━━━━━━━━━━━━━━━\u001B[0m\u001B[37m\u001B[0m \u001B[1m0s\u001B[0m 27ms/step\n",
      "Image: Копия -73.432784,45.575773.jpg, Predicted: No Fire, Confidence: 1.00\n",
      "\u001B[1m1/1\u001B[0m \u001B[32m━━━━━━━━━━━━━━━━━━━━\u001B[0m\u001B[37m\u001B[0m \u001B[1m0s\u001B[0m 30ms/step\n",
      "Image: Копия -73.426495,45.517262.jpg, Predicted: No Fire, Confidence: 1.00\n",
      "\u001B[1m1/1\u001B[0m \u001B[32m━━━━━━━━━━━━━━━━━━━━\u001B[0m\u001B[37m\u001B[0m \u001B[1m0s\u001B[0m 30ms/step\n",
      "Image: Копия -73.441404,45.464996.jpg, Predicted: No Fire, Confidence: 1.00\n",
      "\u001B[1m1/1\u001B[0m \u001B[32m━━━━━━━━━━━━━━━━━━━━\u001B[0m\u001B[37m\u001B[0m \u001B[1m0s\u001B[0m 26ms/step\n",
      "Image: Копия -73.446966,45.442358.jpg, Predicted: No Fire, Confidence: 1.00\n",
      "\u001B[1m1/1\u001B[0m \u001B[32m━━━━━━━━━━━━━━━━━━━━\u001B[0m\u001B[37m\u001B[0m \u001B[1m0s\u001B[0m 23ms/step\n",
      "Image: Копия -73.441077,45.572394.jpg, Predicted: No Fire, Confidence: 1.00\n",
      "\u001B[1m1/1\u001B[0m \u001B[32m━━━━━━━━━━━━━━━━━━━━\u001B[0m\u001B[37m\u001B[0m \u001B[1m0s\u001B[0m 22ms/step\n",
      "Image: Копия -73.438141,45.450101.jpg, Predicted: No Fire, Confidence: 1.00\n",
      "\u001B[1m1/1\u001B[0m \u001B[32m━━━━━━━━━━━━━━━━━━━━\u001B[0m\u001B[37m\u001B[0m \u001B[1m0s\u001B[0m 30ms/step\n",
      "Image: Копия -73.435219,45.579573.jpg, Predicted: No Fire, Confidence: 1.00\n",
      "\u001B[1m1/1\u001B[0m \u001B[32m━━━━━━━━━━━━━━━━━━━━\u001B[0m\u001B[37m\u001B[0m \u001B[1m0s\u001B[0m 22ms/step\n",
      "Image: Копия -73.442595,45.445658.jpg, Predicted: No Fire, Confidence: 1.00\n",
      "\u001B[1m1/1\u001B[0m \u001B[32m━━━━━━━━━━━━━━━━━━━━\u001B[0m\u001B[37m\u001B[0m \u001B[1m0s\u001B[0m 22ms/step\n",
      "Image: Копия -73.443883,45.437311.jpg, Predicted: No Fire, Confidence: 1.00\n",
      "\u001B[1m1/1\u001B[0m \u001B[32m━━━━━━━━━━━━━━━━━━━━\u001B[0m\u001B[37m\u001B[0m \u001B[1m0s\u001B[0m 22ms/step\n",
      "Image: Копия -73.436497,45.517011.jpg, Predicted: No Fire, Confidence: 1.00\n",
      "\u001B[1m1/1\u001B[0m \u001B[32m━━━━━━━━━━━━━━━━━━━━\u001B[0m\u001B[37m\u001B[0m \u001B[1m0s\u001B[0m 23ms/step\n",
      "Image: Копия -73.437186,45.510148.jpg, Predicted: No Fire, Confidence: 1.00\n",
      "\u001B[1m1/1\u001B[0m \u001B[32m━━━━━━━━━━━━━━━━━━━━\u001B[0m\u001B[37m\u001B[0m \u001B[1m0s\u001B[0m 30ms/step\n",
      "Image: Копия -73.434558,45.472357.jpg, Predicted: No Fire, Confidence: 1.00\n",
      "\u001B[1m1/1\u001B[0m \u001B[32m━━━━━━━━━━━━━━━━━━━━\u001B[0m\u001B[37m\u001B[0m \u001B[1m0s\u001B[0m 29ms/step\n",
      "Image: Копия -73.448023,45.46637.jpg, Predicted: No Fire, Confidence: 1.00\n",
      "\u001B[1m1/1\u001B[0m \u001B[32m━━━━━━━━━━━━━━━━━━━━\u001B[0m\u001B[37m\u001B[0m \u001B[1m0s\u001B[0m 30ms/step\n",
      "Image: Копия -73.448985,45.459369.jpg, Predicted: No Fire, Confidence: 1.00\n",
      "\u001B[1m1/1\u001B[0m \u001B[32m━━━━━━━━━━━━━━━━━━━━\u001B[0m\u001B[37m\u001B[0m \u001B[1m0s\u001B[0m 36ms/step\n",
      "Image: Копия -73.451974,45.550392.jpg, Predicted: No Fire, Confidence: 1.00\n",
      "\u001B[1m1/1\u001B[0m \u001B[32m━━━━━━━━━━━━━━━━━━━━\u001B[0m\u001B[37m\u001B[0m \u001B[1m0s\u001B[0m 31ms/step\n",
      "Image: Копия -73.452022,45.534177.jpg, Predicted: No Fire, Confidence: 1.00\n",
      "\u001B[1m1/1\u001B[0m \u001B[32m━━━━━━━━━━━━━━━━━━━━\u001B[0m\u001B[37m\u001B[0m \u001B[1m0s\u001B[0m 27ms/step\n",
      "Image: Копия -73.453018,45.539295.jpg, Predicted: No Fire, Confidence: 1.00\n",
      "\u001B[1m1/1\u001B[0m \u001B[32m━━━━━━━━━━━━━━━━━━━━\u001B[0m\u001B[37m\u001B[0m \u001B[1m0s\u001B[0m 23ms/step\n",
      "Image: Копия -73.453537,45.484115.jpg, Predicted: No Fire, Confidence: 1.00\n",
      "\u001B[1m1/1\u001B[0m \u001B[32m━━━━━━━━━━━━━━━━━━━━\u001B[0m\u001B[37m\u001B[0m \u001B[1m0s\u001B[0m 23ms/step\n",
      "Image: Копия -73.454023,45.515228.jpg, Predicted: No Fire, Confidence: 1.00\n",
      "\u001B[1m1/1\u001B[0m \u001B[32m━━━━━━━━━━━━━━━━━━━━\u001B[0m\u001B[37m\u001B[0m \u001B[1m0s\u001B[0m 24ms/step\n",
      "Image: Копия -73.454656,45.426709.jpg, Predicted: No Fire, Confidence: 1.00\n",
      "\u001B[1m1/1\u001B[0m \u001B[32m━━━━━━━━━━━━━━━━━━━━\u001B[0m\u001B[37m\u001B[0m \u001B[1m0s\u001B[0m 30ms/step\n",
      "Image: Копия -73.455961,45.588047.jpg, Predicted: No Fire, Confidence: 1.00\n",
      "\u001B[1m1/1\u001B[0m \u001B[32m━━━━━━━━━━━━━━━━━━━━\u001B[0m\u001B[37m\u001B[0m \u001B[1m0s\u001B[0m 27ms/step\n",
      "Image: Копия -73.456539,45.522451.jpg, Predicted: No Fire, Confidence: 1.00\n"
     ]
    }
   ]
  },
  {
   "cell_type": "markdown",
   "source": [
    "# Evaluating Model Performance (Training, Validation, Test)"
   ],
   "metadata": {
    "id": "B4mAGR0Vu1SC"
   }
  },
  {
   "cell_type": "code",
   "source": [
    "# Evaluate on the training set\n",
    "train_loss, train_accuracy = model.evaluate(train_generator, verbose=1)\n",
    "print(f\"Training Loss: {train_loss:.4f}, Training Accuracy: {train_accuracy:.4f}\")\n",
    "\n",
    "# Evaluate on the validation set\n",
    "val_loss, val_accuracy = model.evaluate(val_generator, verbose=1)\n",
    "print(f\"Validation Loss: {val_loss:.4f}, Validation Accuracy: {val_accuracy:.4f}\")"
   ],
   "metadata": {
    "colab": {
     "base_uri": "https://localhost:8080/"
    },
    "id": "5w5TefTwu8uZ",
    "outputId": "ed0c3a74-14d5-4688-a74b-21ca1fec31f7"
   },
   "execution_count": null,
   "outputs": [
    {
     "output_type": "stream",
     "name": "stdout",
     "text": [
      "\u001B[1m21/21\u001B[0m \u001B[32m━━━━━━━━━━━━━━━━━━━━\u001B[0m\u001B[37m\u001B[0m \u001B[1m22s\u001B[0m 1s/step - accuracy: 0.9581 - loss: 0.1148\n",
      "Training Loss: 0.1251, Training Accuracy: 0.9524\n",
      "\u001B[1m6/6\u001B[0m \u001B[32m━━━━━━━━━━━━━━━━━━━━\u001B[0m\u001B[37m\u001B[0m \u001B[1m5s\u001B[0m 793ms/step - accuracy: 0.9335 - loss: 0.2233\n",
      "Validation Loss: 0.2184, Validation Accuracy: 0.9345\n"
     ]
    }
   ]
  },
  {
   "source": [
    "# Save the model with the .keras extension\n",
    "model.save('/content/drive/MyDrive/sdp_wildfire_satellite_shared/inceptionv3_saved_model.h5')\n",
    "# Or save with the .h5 extension\n",
    "# model.save('/content/drive/MyDrive/sdp_wildfire_satellite_shared/inceptionv3_saved_model.h5')"
   ],
   "cell_type": "code",
   "metadata": {
    "colab": {
     "base_uri": "https://localhost:8080/"
    },
    "id": "OAt8h6Hf7x5P",
    "outputId": "63c91a2c-286c-4a65-a4cd-054af1337f9e"
   },
   "execution_count": null,
   "outputs": [
    {
     "output_type": "stream",
     "name": "stderr",
     "text": [
      "WARNING:absl:You are saving your model as an HDF5 file via `model.save()` or `keras.saving.save_model(model)`. This file format is considered legacy. We recommend using instead the native Keras format, e.g. `model.save('my_model.keras')` or `keras.saving.save_model(model, 'my_model.keras')`. \n"
     ]
    }
   ]
  },
  {
   "cell_type": "markdown",
   "source": [
    "# Additional Evaluation Metrics (Precision, Recall, F1 Score)"
   ],
   "metadata": {
    "id": "EOjHTYbSyNYn"
   }
  },
  {
   "cell_type": "code",
   "source": [
    "from sklearn.metrics import precision_score, recall_score, f1_score\n",
    "\n",
    "# Function to get predictions\n",
    "def get_predictions(generator):\n",
    "    y_true = []\n",
    "    y_pred = []\n",
    "\n",
    "    for x_batch, y_batch in generator:\n",
    "        y_true.extend(y_batch)\n",
    "        y_pred.extend((model.predict(x_batch) > 0.5).astype(\"int32\"))\n",
    "\n",
    "        # If batch size is less than generator size, break\n",
    "        if len(y_true) >= generator.samples:\n",
    "            break\n",
    "\n",
    "    return np.array(y_true), np.array(y_pred)\n",
    "\n",
    "# Evaluate on the training set (train_generator)\n",
    "y_true_train, y_pred_train = get_predictions(train_generator)\n",
    "print(\"\\nTraining Set Evaluation:\")\n",
    "print(f\"Precision: {precision_score(y_true_train, y_pred_train)}\")\n",
    "print(f\"Recall: {recall_score(y_true_train, y_pred_train)}\")\n",
    "print(f\"F1 Score: {f1_score(y_true_train, y_pred_train)}\")\n",
    "\n",
    "# Evaluate on the validation set (val_generator)\n",
    "y_true_val, y_pred_val = get_predictions(val_generator)\n",
    "print(\"\\nValidation Set Evaluation:\")\n",
    "print(f\"Precision: {precision_score(y_true_val, y_pred_val)}\")\n",
    "print(f\"Recall: {recall_score(y_true_val, y_pred_val)}\")\n",
    "print(f\"F1 Score: {f1_score(y_true_val, y_pred_val)}\")"
   ],
   "metadata": {
    "colab": {
     "base_uri": "https://localhost:8080/",
     "height": 1000
    },
    "id": "RGO4UOh0yR9S",
    "outputId": "c4092ae6-dcc0-4c9c-e4e6-c8246e4013b0"
   },
   "execution_count": null,
   "outputs": [
    {
     "output_type": "stream",
     "name": "stdout",
     "text": [
      "\u001B[1m1/1\u001B[0m \u001B[32m━━━━━━━━━━━━━━━━━━━━\u001B[0m\u001B[37m\u001B[0m \u001B[1m12s\u001B[0m 12s/step\n",
      "\u001B[1m1/1\u001B[0m \u001B[32m━━━━━━━━━━━━━━━━━━━━\u001B[0m\u001B[37m\u001B[0m \u001B[1m9s\u001B[0m 9s/step\n",
      "\u001B[1m1/1\u001B[0m \u001B[32m━━━━━━━━━━━━━━━━━━━━\u001B[0m\u001B[37m\u001B[0m \u001B[1m11s\u001B[0m 11s/step\n",
      "\u001B[1m1/1\u001B[0m \u001B[32m━━━━━━━━━━━━━━━━━━━━\u001B[0m\u001B[37m\u001B[0m \u001B[1m7s\u001B[0m 7s/step\n",
      "\u001B[1m1/1\u001B[0m \u001B[32m━━━━━━━━━━━━━━━━━━━━\u001B[0m\u001B[37m\u001B[0m \u001B[1m10s\u001B[0m 10s/step\n",
      "\u001B[1m1/1\u001B[0m \u001B[32m━━━━━━━━━━━━━━━━━━━━\u001B[0m\u001B[37m\u001B[0m \u001B[1m9s\u001B[0m 9s/step\n",
      "\u001B[1m1/1\u001B[0m \u001B[32m━━━━━━━━━━━━━━━━━━━━\u001B[0m\u001B[37m\u001B[0m \u001B[1m7s\u001B[0m 7s/step\n",
      "\u001B[1m1/1\u001B[0m \u001B[32m━━━━━━━━━━━━━━━━━━━━\u001B[0m\u001B[37m\u001B[0m \u001B[1m10s\u001B[0m 10s/step\n",
      "\u001B[1m1/1\u001B[0m \u001B[32m━━━━━━━━━━━━━━━━━━━━\u001B[0m\u001B[37m\u001B[0m \u001B[1m8s\u001B[0m 8s/step\n",
      "\u001B[1m1/1\u001B[0m \u001B[32m━━━━━━━━━━━━━━━━━━━━\u001B[0m\u001B[37m\u001B[0m \u001B[1m8s\u001B[0m 8s/step\n",
      "\u001B[1m1/1\u001B[0m \u001B[32m━━━━━━━━━━━━━━━━━━━━\u001B[0m\u001B[37m\u001B[0m \u001B[1m12s\u001B[0m 12s/step\n",
      "\u001B[1m1/1\u001B[0m \u001B[32m━━━━━━━━━━━━━━━━━━━━\u001B[0m\u001B[37m\u001B[0m \u001B[1m7s\u001B[0m 7s/step\n",
      "\u001B[1m1/1\u001B[0m \u001B[32m━━━━━━━━━━━━━━━━━━━━\u001B[0m\u001B[37m\u001B[0m \u001B[1m10s\u001B[0m 10s/step\n",
      "\u001B[1m1/1\u001B[0m \u001B[32m━━━━━━━━━━━━━━━━━━━━\u001B[0m\u001B[37m\u001B[0m \u001B[1m9s\u001B[0m 9s/step\n",
      "\u001B[1m1/1\u001B[0m \u001B[32m━━━━━━━━━━━━━━━━━━━━\u001B[0m\u001B[37m\u001B[0m \u001B[1m8s\u001B[0m 8s/step\n",
      "\u001B[1m1/1\u001B[0m \u001B[32m━━━━━━━━━━━━━━━━━━━━\u001B[0m\u001B[37m\u001B[0m \u001B[1m10s\u001B[0m 10s/step\n",
      "\u001B[1m1/1\u001B[0m \u001B[32m━━━━━━━━━━━━━━━━━━━━\u001B[0m\u001B[37m\u001B[0m \u001B[1m8s\u001B[0m 8s/step\n",
      "\u001B[1m1/1\u001B[0m \u001B[32m━━━━━━━━━━━━━━━━━━━━\u001B[0m\u001B[37m\u001B[0m \u001B[1m9s\u001B[0m 9s/step\n",
      "\u001B[1m1/1\u001B[0m \u001B[32m━━━━━━━━━━━━━━━━━━━━\u001B[0m\u001B[37m\u001B[0m \u001B[1m11s\u001B[0m 11s/step\n",
      "\u001B[1m1/1\u001B[0m \u001B[32m━━━━━━━━━━━━━━━━━━━━\u001B[0m\u001B[37m\u001B[0m \u001B[1m8s\u001B[0m 8s/step\n",
      "\u001B[1m1/1\u001B[0m \u001B[32m━━━━━━━━━━━━━━━━━━━━\u001B[0m\u001B[37m\u001B[0m \u001B[1m5s\u001B[0m 5s/step\n",
      "\n",
      "Training Set Evaluation:\n",
      "Precision: 0.9312714776632303\n",
      "Recall: 0.811377245508982\n",
      "F1 Score: 0.8672\n",
      "\u001B[1m1/1\u001B[0m \u001B[32m━━━━━━━━━━━━━━━━━━━━\u001B[0m\u001B[37m\u001B[0m \u001B[1m7s\u001B[0m 7s/step\n",
      "\u001B[1m1/1\u001B[0m \u001B[32m━━━━━━━━━━━━━━━━━━━━\u001B[0m\u001B[37m\u001B[0m \u001B[1m10s\u001B[0m 10s/step\n",
      "\u001B[1m1/1\u001B[0m \u001B[32m━━━━━━━━━━━━━━━━━━━━\u001B[0m\u001B[37m\u001B[0m \u001B[1m8s\u001B[0m 8s/step\n",
      "\u001B[1m1/1\u001B[0m \u001B[32m━━━━━━━━━━━━━━━━━━━━\u001B[0m\u001B[37m\u001B[0m \u001B[1m7s\u001B[0m 7s/step\n",
      "\u001B[1m1/1\u001B[0m \u001B[32m━━━━━━━━━━━━━━━━━━━━\u001B[0m\u001B[37m\u001B[0m \u001B[1m8s\u001B[0m 8s/step\n",
      "\u001B[1m1/1\u001B[0m \u001B[32m━━━━━━━━━━━━━━━━━━━━\u001B[0m\u001B[37m\u001B[0m \u001B[1m1s\u001B[0m 619ms/step\n",
      "\n",
      "Validation Set Evaluation:\n",
      "Precision: 0.782608695652174\n",
      "Recall: 0.6506024096385542\n",
      "F1 Score: 0.7105263157894737\n"
     ]
    },
    {
     "output_type": "stream",
     "name": "stderr",
     "text": [
      "/usr/lib/python3.10/contextlib.py:153: UserWarning: Your input ran out of data; interrupting training. Make sure that your dataset or generator can generate at least `steps_per_epoch * epochs` batches. You may need to use the `.repeat()` function when building your dataset.\n",
      "  self.gen.throw(typ, value, traceback)\n"
     ]
    },
    {
     "output_type": "error",
     "ename": "ValueError",
     "evalue": "math domain error",
     "traceback": [
      "\u001B[0;31m---------------------------------------------------------------------------\u001B[0m",
      "\u001B[0;31mValueError\u001B[0m                                Traceback (most recent call last)",
      "\u001B[0;32m<ipython-input-26-0c1ae1f4c165>\u001B[0m in \u001B[0;36m<cell line: 33>\u001B[0;34m()\u001B[0m\n\u001B[1;32m     31\u001B[0m \u001B[0;34m\u001B[0m\u001B[0m\n\u001B[1;32m     32\u001B[0m \u001B[0;31m# Evaluate on the test set (test_generator)\u001B[0m\u001B[0;34m\u001B[0m\u001B[0;34m\u001B[0m\u001B[0m\n\u001B[0;32m---> 33\u001B[0;31m \u001B[0my_true_test\u001B[0m\u001B[0;34m,\u001B[0m \u001B[0my_pred_test\u001B[0m \u001B[0;34m=\u001B[0m \u001B[0mget_predictions\u001B[0m\u001B[0;34m(\u001B[0m\u001B[0mtest_generator\u001B[0m\u001B[0;34m)\u001B[0m\u001B[0;34m\u001B[0m\u001B[0;34m\u001B[0m\u001B[0m\n\u001B[0m\u001B[1;32m     34\u001B[0m \u001B[0mprint\u001B[0m\u001B[0;34m(\u001B[0m\u001B[0;34m\"\\nTest Set Evaluation:\"\u001B[0m\u001B[0;34m)\u001B[0m\u001B[0;34m\u001B[0m\u001B[0;34m\u001B[0m\u001B[0m\n\u001B[1;32m     35\u001B[0m \u001B[0mprint\u001B[0m\u001B[0;34m(\u001B[0m\u001B[0;34mf\"Precision: {precision_score(y_true_test, y_pred_test)}\"\u001B[0m\u001B[0;34m)\u001B[0m\u001B[0;34m\u001B[0m\u001B[0;34m\u001B[0m\u001B[0m\n",
      "\u001B[0;32m<ipython-input-26-0c1ae1f4c165>\u001B[0m in \u001B[0;36mget_predictions\u001B[0;34m(generator)\u001B[0m\n\u001B[1;32m      8\u001B[0m     \u001B[0;32mfor\u001B[0m \u001B[0mx_batch\u001B[0m\u001B[0;34m,\u001B[0m \u001B[0my_batch\u001B[0m \u001B[0;32min\u001B[0m \u001B[0mgenerator\u001B[0m\u001B[0;34m:\u001B[0m\u001B[0;34m\u001B[0m\u001B[0;34m\u001B[0m\u001B[0m\n\u001B[1;32m      9\u001B[0m         \u001B[0my_true\u001B[0m\u001B[0;34m.\u001B[0m\u001B[0mextend\u001B[0m\u001B[0;34m(\u001B[0m\u001B[0my_batch\u001B[0m\u001B[0;34m)\u001B[0m\u001B[0;34m\u001B[0m\u001B[0;34m\u001B[0m\u001B[0m\n\u001B[0;32m---> 10\u001B[0;31m         \u001B[0my_pred\u001B[0m\u001B[0;34m.\u001B[0m\u001B[0mextend\u001B[0m\u001B[0;34m(\u001B[0m\u001B[0;34m(\u001B[0m\u001B[0mmodel\u001B[0m\u001B[0;34m.\u001B[0m\u001B[0mpredict\u001B[0m\u001B[0;34m(\u001B[0m\u001B[0mx_batch\u001B[0m\u001B[0;34m)\u001B[0m \u001B[0;34m>\u001B[0m \u001B[0;36m0.5\u001B[0m\u001B[0;34m)\u001B[0m\u001B[0;34m.\u001B[0m\u001B[0mastype\u001B[0m\u001B[0;34m(\u001B[0m\u001B[0;34m\"int32\"\u001B[0m\u001B[0;34m)\u001B[0m\u001B[0;34m)\u001B[0m\u001B[0;34m\u001B[0m\u001B[0;34m\u001B[0m\u001B[0m\n\u001B[0m\u001B[1;32m     11\u001B[0m \u001B[0;34m\u001B[0m\u001B[0m\n\u001B[1;32m     12\u001B[0m         \u001B[0;31m# If batch size is less than generator size, break\u001B[0m\u001B[0;34m\u001B[0m\u001B[0;34m\u001B[0m\u001B[0m\n",
      "\u001B[0;32m/usr/local/lib/python3.10/dist-packages/keras/src/utils/traceback_utils.py\u001B[0m in \u001B[0;36merror_handler\u001B[0;34m(*args, **kwargs)\u001B[0m\n\u001B[1;32m    120\u001B[0m             \u001B[0;31m# To get the full stack trace, call:\u001B[0m\u001B[0;34m\u001B[0m\u001B[0;34m\u001B[0m\u001B[0m\n\u001B[1;32m    121\u001B[0m             \u001B[0;31m# `keras.config.disable_traceback_filtering()`\u001B[0m\u001B[0;34m\u001B[0m\u001B[0;34m\u001B[0m\u001B[0m\n\u001B[0;32m--> 122\u001B[0;31m             \u001B[0;32mraise\u001B[0m \u001B[0me\u001B[0m\u001B[0;34m.\u001B[0m\u001B[0mwith_traceback\u001B[0m\u001B[0;34m(\u001B[0m\u001B[0mfiltered_tb\u001B[0m\u001B[0;34m)\u001B[0m \u001B[0;32mfrom\u001B[0m \u001B[0;32mNone\u001B[0m\u001B[0;34m\u001B[0m\u001B[0;34m\u001B[0m\u001B[0m\n\u001B[0m\u001B[1;32m    123\u001B[0m         \u001B[0;32mfinally\u001B[0m\u001B[0;34m:\u001B[0m\u001B[0;34m\u001B[0m\u001B[0;34m\u001B[0m\u001B[0m\n\u001B[1;32m    124\u001B[0m             \u001B[0;32mdel\u001B[0m \u001B[0mfiltered_tb\u001B[0m\u001B[0;34m\u001B[0m\u001B[0;34m\u001B[0m\u001B[0m\n",
      "\u001B[0;32m/usr/local/lib/python3.10/dist-packages/keras/src/utils/progbar.py\u001B[0m in \u001B[0;36mupdate\u001B[0;34m(self, current, values, finalize)\u001B[0m\n\u001B[1;32m    117\u001B[0m \u001B[0;34m\u001B[0m\u001B[0m\n\u001B[1;32m    118\u001B[0m             \u001B[0;32mif\u001B[0m \u001B[0mself\u001B[0m\u001B[0;34m.\u001B[0m\u001B[0mtarget\u001B[0m \u001B[0;32mis\u001B[0m \u001B[0;32mnot\u001B[0m \u001B[0;32mNone\u001B[0m\u001B[0;34m:\u001B[0m\u001B[0;34m\u001B[0m\u001B[0;34m\u001B[0m\u001B[0m\n\u001B[0;32m--> 119\u001B[0;31m                 \u001B[0mnumdigits\u001B[0m \u001B[0;34m=\u001B[0m \u001B[0mint\u001B[0m\u001B[0;34m(\u001B[0m\u001B[0mmath\u001B[0m\u001B[0;34m.\u001B[0m\u001B[0mlog10\u001B[0m\u001B[0;34m(\u001B[0m\u001B[0mself\u001B[0m\u001B[0;34m.\u001B[0m\u001B[0mtarget\u001B[0m\u001B[0;34m)\u001B[0m\u001B[0;34m)\u001B[0m \u001B[0;34m+\u001B[0m \u001B[0;36m1\u001B[0m\u001B[0;34m\u001B[0m\u001B[0;34m\u001B[0m\u001B[0m\n\u001B[0m\u001B[1;32m    120\u001B[0m                 \u001B[0mbar\u001B[0m \u001B[0;34m=\u001B[0m \u001B[0;34m(\u001B[0m\u001B[0;34m\"%\"\u001B[0m \u001B[0;34m+\u001B[0m \u001B[0mstr\u001B[0m\u001B[0;34m(\u001B[0m\u001B[0mnumdigits\u001B[0m\u001B[0;34m)\u001B[0m \u001B[0;34m+\u001B[0m \u001B[0;34m\"d/%d\"\u001B[0m\u001B[0;34m)\u001B[0m \u001B[0;34m%\u001B[0m \u001B[0;34m(\u001B[0m\u001B[0mcurrent\u001B[0m\u001B[0;34m,\u001B[0m \u001B[0mself\u001B[0m\u001B[0;34m.\u001B[0m\u001B[0mtarget\u001B[0m\u001B[0;34m)\u001B[0m\u001B[0;34m\u001B[0m\u001B[0;34m\u001B[0m\u001B[0m\n\u001B[1;32m    121\u001B[0m                 \u001B[0mbar\u001B[0m \u001B[0;34m=\u001B[0m \u001B[0;34mf\"\\x1b[1m{bar}\\x1b[0m \"\u001B[0m\u001B[0;34m\u001B[0m\u001B[0;34m\u001B[0m\u001B[0m\n",
      "\u001B[0;31mValueError\u001B[0m: math domain error"
     ]
    }
   ]
  }
 ]
}
