{
  "cells": [
    {
      "cell_type": "markdown",
      "metadata": {
        "id": "view-in-github",
        "colab_type": "text"
      },
      "source": [
        "<a href=\"https://colab.research.google.com/github/gunelaliyevaa/wildfire-detection-using-satellite-imagery/blob/main/training_pipeline_demo.ipynb\" target=\"_parent\"><img src=\"https://colab.research.google.com/assets/colab-badge.svg\" alt=\"Open In Colab\"/></a>"
      ]
    },
    {
      "cell_type": "code",
      "execution_count": null,
      "metadata": {
        "id": "W3AfkEsZJYgM"
      },
      "outputs": [],
      "source": [
        "import torch\n",
        "import csv\n",
        "import torchvision.transforms as T\n",
        "import torchvision.models as models\n",
        "import torch.nn as nn\n",
        "import torch.optim as optim\n",
        "from torch.utils.data import DataLoader, Dataset, random_split, Subset\n",
        "from sklearn.model_selection import StratifiedKFold\n",
        "import albumentations as A\n",
        "from albumentations.pytorch import ToTensorV2\n",
        "import cv2\n",
        "import os\n",
        "import time\n",
        "import numpy as np\n",
        "from sklearn.model_selection import train_test_split\n",
        "from tqdm import tqdm\n",
        "from torchvision import transforms\n",
        "from PIL import Image\n",
        "from torch.optim.lr_scheduler import CosineAnnealingWarmRestarts\n",
        "import matplotlib.pyplot as plt\n",
        "from scipy.ndimage import gaussian_filter1d\n",
        "from sklearn.metrics import accuracy_score, precision_score, recall_score, f1_score, confusion_matrix"
      ]
    },
    {
      "cell_type": "code",
      "execution_count": null,
      "metadata": {
        "colab": {
          "base_uri": "https://localhost:8080/"
        },
        "id": "XLGbNyK9JOJD",
        "outputId": "b0074c2b-7d96-476d-b604-b970b9e9cea9"
      },
      "outputs": [
        {
          "output_type": "stream",
          "name": "stdout",
          "text": [
            "Drive already mounted at /content/drive; to attempt to forcibly remount, call drive.mount(\"/content/drive\", force_remount=True).\n"
          ]
        }
      ],
      "source": [
        "from google.colab import drive\n",
        "drive.mount('/content/drive')"
      ]
    },
    {
      "cell_type": "code",
      "execution_count": null,
      "metadata": {
        "id": "1Nn4L05Hw-95"
      },
      "outputs": [],
      "source": [
        "dataset_path = \"/content/drive/MyDrive/patched_images\"\n",
        "fire_class = \"fire\"\n",
        "no_fire_class = \"no_fire\"\n",
        "class_names = {0: \"No Fire\", 1: \"Fire\"}\n",
        "\n",
        "fire_images = [os.path.join(dataset_path, fire_class, f) for f in os.listdir(os.path.join(dataset_path, fire_class))]\n",
        "no_fire_images = [os.path.join(dataset_path, no_fire_class, f) for f in os.listdir(os.path.join(dataset_path, no_fire_class))]\n",
        "\n",
        "all_images = fire_images + no_fire_images\n",
        "all_labels = [1] * len(fire_images) + [0] * len(no_fire_images)  # Fire = 1, No Fire = 0"
      ]
    },
    {
      "cell_type": "code",
      "execution_count": null,
      "metadata": {
        "colab": {
          "base_uri": "https://localhost:8080/"
        },
        "id": "eGmyWERu9ydQ",
        "outputId": "e3c32f6b-687c-4f37-a037-8337f7f01a63"
      },
      "outputs": [
        {
          "output_type": "stream",
          "name": "stdout",
          "text": [
            "Dataset Split: Train+Val=648, Test=72\n"
          ]
        }
      ],
      "source": [
        "# Split into train+val and test sets\n",
        "trainval_images, test_images, trainval_labels, test_labels = train_test_split(\n",
        "    all_images, all_labels, test_size=0.10, stratify=all_labels, random_state=42\n",
        ")\n",
        "\n",
        "print(f\"Dataset Split: Train+Val={len(trainval_images)}, Test={len(test_images)}\")"
      ]
    },
    {
      "cell_type": "markdown",
      "source": [
        "# K-fold setup"
      ],
      "metadata": {
        "id": "tO-ieYgc3n_H"
      }
    },
    {
      "cell_type": "code",
      "execution_count": null,
      "metadata": {
        "id": "_Ld7eRZ9KGgr"
      },
      "outputs": [],
      "source": [
        "class FireDataset(Dataset):\n",
        "    def __init__(self, data_pairs=None, image_paths=None, labels=None, transform=None):\n",
        "        if data_pairs:\n",
        "            self.image_paths, self.labels = zip(*data_pairs)\n",
        "        elif image_paths and labels:\n",
        "            self.image_paths = image_paths\n",
        "            self.labels = labels\n",
        "        else:\n",
        "            raise ValueError(\"Provide either data_pairs or image_paths and labels.\")\n",
        "\n",
        "        self.transform = transform\n",
        "\n",
        "    def __len__(self):\n",
        "        return len(self.image_paths)\n",
        "\n",
        "    def __getitem__(self, idx):\n",
        "        image = cv2.imread(self.image_paths[idx])\n",
        "        image = cv2.cvtColor(image, cv2.COLOR_BGR2RGB)\n",
        "        label = self.labels[idx]\n",
        "\n",
        "        if self.transform:\n",
        "            image = Image.fromarray(image)\n",
        "            image = self.transform(image)\n",
        "\n",
        "        return image, torch.tensor(label, dtype=torch.long)\n"
      ]
    },
    {
      "cell_type": "code",
      "execution_count": null,
      "metadata": {
        "id": "DBwAM551AG1V"
      },
      "outputs": [],
      "source": [
        "def get_fold_loaders(trainval_images, trainval_labels, data_transforms, batch_size=32):\n",
        "    skf = StratifiedKFold(n_splits=3, shuffle=True, random_state=42)\n",
        "    splits = []\n",
        "\n",
        "    for fold_idx, (train_idx, val_idx) in enumerate(skf.split(trainval_images, trainval_labels)):\n",
        "        X_train = [trainval_images[i] for i in train_idx]\n",
        "        y_train = [trainval_labels[i] for i in train_idx]\n",
        "        X_val = [trainval_images[i] for i in val_idx]\n",
        "        y_val = [trainval_labels[i] for i in val_idx]\n",
        "\n",
        "        train_ds = FireDataset(list(zip(X_train, y_train)), transform=data_transforms['train'])\n",
        "        val_ds = FireDataset(list(zip(X_val, y_val)), transform=data_transforms['val'])\n",
        "\n",
        "        train_loader = DataLoader(train_ds, batch_size=batch_size, shuffle=True, num_workers=2)\n",
        "        val_loader = DataLoader(val_ds, batch_size=batch_size, shuffle=False, num_workers=2)\n",
        "\n",
        "        splits.append((fold_idx, train_loader, val_loader, {'train': len(train_ds),\n",
        "                                                            'val': len(val_ds)}))\n",
        "\n",
        "    return splits"
      ]
    },
    {
      "cell_type": "code",
      "execution_count": null,
      "metadata": {
        "id": "5Uq96tQ1Iji-"
      },
      "outputs": [],
      "source": [
        "# Define transforms\n",
        "train_transforms = transforms.Compose([\n",
        "    transforms.Resize((224, 224)),\n",
        "    transforms.RandomHorizontalFlip(),\n",
        "    transforms.RandomVerticalFlip(),\n",
        "    transforms.RandomRotation(30),\n",
        "    transforms.ToTensor(),\n",
        "    transforms.Normalize(mean=[0.485, 0.456, 0.406], std=[0.229, 0.224, 0.225])\n",
        "])\n",
        "\n",
        "val_test_transforms = transforms.Compose([\n",
        "    transforms.Resize((224, 224)),\n",
        "    transforms.ToTensor(),\n",
        "    transforms.Normalize(mean=[0.485, 0.456, 0.406], std=[0.229, 0.224, 0.225])\n",
        "])\n",
        "\n",
        "data_transforms = {\n",
        "    'train': train_transforms,\n",
        "    'val': val_test_transforms\n",
        "}"
      ]
    },
    {
      "cell_type": "code",
      "source": [
        "# Load splits for k-fold\n",
        "fold_loaders = get_fold_loaders(trainval_images, trainval_labels, data_transforms, batch_size=32)"
      ],
      "metadata": {
        "id": "x4L4PYXmGRQb"
      },
      "execution_count": null,
      "outputs": []
    },
    {
      "cell_type": "code",
      "source": [],
      "metadata": {
        "id": "RjOctp04GTCn"
      },
      "execution_count": null,
      "outputs": []
    },
    {
      "cell_type": "code",
      "execution_count": null,
      "metadata": {
        "id": "wApyEl8EKVSP"
      },
      "outputs": [],
      "source": [
        "def train_model_fold(model, dataloaders, dataset_sizes, criterion, optimizer, scheduler,\n",
        "                num_epochs=25, save_dir='checkpoints', fold_idx=0, patience=5):\n",
        "    since = time.time()\n",
        "    metrics = {\n",
        "        'train_loss': [],\n",
        "        'val_loss': [],\n",
        "        'train_acc': [],\n",
        "        'val_acc': []\n",
        "    }\n",
        "\n",
        "    os.makedirs(save_dir, exist_ok=True)\n",
        "    model_name = \"efficientnetb0\"\n",
        "    best_model_params_path = os.path.join(save_dir, f'best_model_fold{fold_idx}_{model_name}.pt')\n",
        "    final_model_path = os.path.join(save_dir, f'final_model_fold{fold_idx}_{model_name}.pt')\n",
        "\n",
        "\n",
        "    best_acc = 0.0            # for saving best model\n",
        "    best_loss = float('inf')  # for early stopping\n",
        "    best_epoch = 0\n",
        "    early_stop_counter = 0\n",
        "\n",
        "    print(f'{\"Epoch\":^8} | {\"Train Loss\":^12} | {\"Train Acc\":^10} | {\"Val Loss\":^10} | {\"Val Acc\":^10}')\n",
        "    print('-' * 60)\n",
        "\n",
        "    for epoch in range(num_epochs):\n",
        "        epoch_stats = {}\n",
        "\n",
        "        for phase in ['train', 'val']:\n",
        "            if phase == 'train':\n",
        "                model.train()\n",
        "            else:\n",
        "                model.eval()\n",
        "\n",
        "            running_loss = 0.0\n",
        "            running_corrects = 0\n",
        "\n",
        "            for inputs, labels in dataloaders[phase]:\n",
        "                inputs = inputs.to(device)\n",
        "                labels = labels.to(device)\n",
        "\n",
        "                optimizer.zero_grad()\n",
        "\n",
        "                with torch.set_grad_enabled(phase == 'train'):\n",
        "                    outputs = model(inputs)\n",
        "                    _, preds = torch.max(outputs, 1)\n",
        "                    loss = criterion(outputs, labels)\n",
        "\n",
        "                    if phase == 'train':\n",
        "                        loss.backward()\n",
        "                        optimizer.step()\n",
        "                        scheduler.step()\n",
        "\n",
        "                running_loss += loss.item() * inputs.size(0)\n",
        "                running_corrects += torch.sum(preds == labels.data)\n",
        "\n",
        "            epoch_loss = running_loss / dataset_sizes[phase]\n",
        "            epoch_acc = running_corrects.double() / dataset_sizes[phase]\n",
        "\n",
        "            metrics[f\"{phase}_loss\"].append(epoch_loss)\n",
        "            metrics[f\"{phase}_acc\"].append(epoch_acc.item())\n",
        "\n",
        "\n",
        "            if phase == 'val':\n",
        "             # Save best accuracy model\n",
        "              if epoch_acc > best_acc:\n",
        "                 best_acc = epoch_acc\n",
        "                 best_epoch = epoch\n",
        "                 torch.save(model.state_dict(), best_model_params_path)\n",
        "\n",
        "            # Early stopping based on loss\n",
        "              if epoch_loss < best_loss:\n",
        "                 best_loss = epoch_loss\n",
        "                 early_stop_counter = 0\n",
        "              else:\n",
        "                 early_stop_counter += 1\n",
        "                 print(f\"⚠️ Early stop counter: {early_stop_counter}/{patience}\")\n",
        "\n",
        "\n",
        "            epoch_stats[phase] = (epoch_loss, epoch_acc)\n",
        "\n",
        "        train_loss, train_acc = epoch_stats['train']\n",
        "        val_loss, val_acc = epoch_stats['val']\n",
        "        print(f'{epoch:^8} | {train_loss:^12.4f} | {train_acc:^10.4f} | {val_loss:^10.4f} | {val_acc:^10.4f}')\n",
        "\n",
        "        if early_stop_counter >= patience:\n",
        "            print(f\"\\n⏹️ Early stopping at epoch {epoch} (no improvement for {patience} epochs)\")\n",
        "            break\n",
        "\n",
        "    time_elapsed = time.time() - since\n",
        "    print(f'\\n Training complete in {time_elapsed // 60:.0f}m {time_elapsed % 60:.0f}s')\n",
        "    print(f'🏆 Best val Acc: {best_acc:.4f} (saved at epoch {best_epoch})')\n",
        "    print(f'🛑 Early stopping triggered based on val loss (patience = {patience})')\n",
        "\n",
        "\n",
        "    model.load_state_dict(torch.load(best_model_params_path))\n",
        "    torch.save(model.state_dict(), final_model_path)\n",
        "\n",
        "    return model, metrics"
      ]
    },
    {
      "cell_type": "markdown",
      "metadata": {
        "id": "iMM4t7_sIhC1"
      },
      "source": [
        "# Model definitions"
      ]
    },
    {
      "cell_type": "code",
      "execution_count": null,
      "metadata": {
        "id": "Ecdjpz9fJDwS"
      },
      "outputs": [],
      "source": [
        "device = torch.device(\"cuda\" if torch.cuda.is_available() else \"cpu\")"
      ]
    },
    {
      "cell_type": "code",
      "execution_count": null,
      "metadata": {
        "id": "OCnykXARaBUb"
      },
      "outputs": [],
      "source": [
        "def make_mobilenetv2_model(device, dropout = 0.3):\n",
        "    model = models.mobilenet_v2(weights='IMAGENET1K_V1')\n",
        "\n",
        "    for name, param in model.named_parameters():\n",
        "        if \"features.18\" in name or \"classifier\" in name:\n",
        "            param.requires_grad = True\n",
        "        else:\n",
        "            param.requires_grad = False\n",
        "\n",
        "    num_ftrs = model.classifier[1].in_features\n",
        "    model.classifier = nn.Sequential(\n",
        "        nn.Dropout(dropout),\n",
        "        nn.Linear(num_ftrs, 256),\n",
        "        nn.ReLU(),\n",
        "        nn.Dropout(dropout),\n",
        "        nn.Linear(256, 2)\n",
        "    )\n",
        "\n",
        "    return model.to(device), \"mobilenetv2\""
      ]
    },
    {
      "cell_type": "code",
      "execution_count": null,
      "metadata": {
        "id": "UfJEgoTHZ32r"
      },
      "outputs": [],
      "source": [
        "def make_efficientnetb0_model(device, dropout=0.3):\n",
        "    model = models.efficientnet_b0(weights='IMAGENET1K_V1')\n",
        "\n",
        "    for name, param in model.named_parameters():\n",
        "        if \"features.7\" in name or \"classifier\" in name:\n",
        "            param.requires_grad = True\n",
        "        else:\n",
        "            param.requires_grad = False\n",
        "\n",
        "    num_ftrs = model.classifier[1].in_features  # classifier is Sequential(Dropout, Linear)\n",
        "    model.classifier = nn.Sequential(\n",
        "        nn.Dropout(dropout),\n",
        "        nn.Linear(num_ftrs, 256),\n",
        "        nn.ReLU(),\n",
        "        nn.Dropout(dropout),\n",
        "        nn.Linear(256, 2)\n",
        "    )\n",
        "\n",
        "    return model.to(device), \"efficientnetb0\""
      ]
    },
    {
      "cell_type": "code",
      "execution_count": null,
      "metadata": {
        "id": "luSoshmpZ82e"
      },
      "outputs": [],
      "source": [
        "def make_resnet18_model(device, dropout=0.3):\n",
        "    model = models.resnet18(weights='IMAGENET1K_V1')\n",
        "\n",
        "    for name, param in model.named_parameters():\n",
        "        if name.startswith(\"layer4\") or name.startswith(\"fc\"):\n",
        "            param.requires_grad = True\n",
        "        else:\n",
        "            param.requires_grad = False\n",
        "\n",
        "    num_ftrs = model.fc.in_features\n",
        "    model.fc = nn.Sequential(\n",
        "        nn.Dropout(dropout),\n",
        "        nn.Linear(num_ftrs, 256),\n",
        "        nn.ReLU(),\n",
        "        nn.Dropout(dropout),\n",
        "        nn.Linear(256, 2)\n",
        "    )\n",
        "\n",
        "    return model.to(device), \"resnet18\""
      ]
    },
    {
      "cell_type": "code",
      "execution_count": null,
      "metadata": {
        "id": "95iaH0XBQ_s2"
      },
      "outputs": [],
      "source": [
        "def make_densenet_model(device, dropout = 0.3):\n",
        "    model = models.densenet121(weights='IMAGENET1K_V1')\n",
        "\n",
        "    # Freeze all layers except some\n",
        "    for name, param in model.named_parameters():\n",
        "        if \"features.7\" or \"classifier\" in name: #unfreeze final trainable layer and classifier\n",
        "          param.requires_grad = True\n",
        "        else:\n",
        "          param.requires_grad = False\n",
        "\n",
        "    num_ftrs = model.classifier.in_features\n",
        "    model.classifier = nn.Sequential(\n",
        "        nn.Dropout(dropout),\n",
        "        nn.Linear(num_ftrs, 256),\n",
        "        nn.ReLU(),\n",
        "        nn.Dropout(dropout),\n",
        "        nn.Linear(256, 2)\n",
        "    )\n",
        "\n",
        "    return model.to(device), \"densenet121\""
      ]
    },
    {
      "cell_type": "markdown",
      "source": [
        "# Define Augmentations"
      ],
      "metadata": {
        "id": "vSCCf0S2F3dP"
      }
    },
    {
      "cell_type": "markdown",
      "metadata": {
        "id": "yrUzMv6RFyhH"
      },
      "source": [
        "# Train and Tuning with CV abd Bayesian"
      ]
    },
    {
      "cell_type": "code",
      "execution_count": null,
      "metadata": {
        "id": "azrf1NjTF3HL"
      },
      "outputs": [],
      "source": [
        "!pip install optuna\n"
      ]
    },
    {
      "cell_type": "code",
      "execution_count": null,
      "metadata": {
        "id": "qE0zopi6Yf-D"
      },
      "outputs": [],
      "source": [
        "import optuna\n",
        "from optuna.trial import TrialState"
      ]
    },
    {
      "cell_type": "code",
      "execution_count": null,
      "metadata": {
        "id": "79V7KY7z0xft"
      },
      "outputs": [],
      "source": [
        "def objective(trial):\n",
        "    print(f\"\\n🎯 Starting trial {trial.number}\")\n",
        "    lr = trial.suggest_float(\"lr\", 1e-6, 1e-3, log=True)\n",
        "    dropout = trial.suggest_float(\"dropout\", 0.1, 0.6)\n",
        "    weight_decay = trial.suggest_float(\"weight_decay\", 1e-6, 1e-3, log=True)\n",
        "    label_smoothing = trial.suggest_float(\"label_smoothing\", 0.0, 0.2)\n",
        "    T_0 = trial.suggest_int(\"T_0\", 5, 15)\n",
        "    T_mult = trial.suggest_int(\"T_mult\", 1, 2)\n",
        "\n",
        "    print(f\"Params: lr={lr:.6f}, dropout={dropout:.2f}, wd={weight_decay:.6f}, smoothing={label_smoothing:.2f}, T_0={T_0}, T_mult={T_mult}\")\n",
        "\n",
        "    val_accuracies = []\n",
        "\n",
        "    for fold_idx, train_loader, val_loader, dataset_sizes in fold_loaders:\n",
        "        print(f\"\\n====== Fold {fold_idx+1} ======\")\n",
        "        dataloaders = {'train': train_loader, 'val': val_loader}\n",
        "\n",
        "        model, model_name = make_efficientnetb0_model(device, dropout=dropout)\n",
        "\n",
        "        criterion = nn.CrossEntropyLoss(label_smoothing=label_smoothing)\n",
        "        optimizer = torch.optim.AdamW(model.parameters(), lr=lr, weight_decay=weight_decay)\n",
        "        scheduler = torch.optim.lr_scheduler.CosineAnnealingWarmRestarts(optimizer, T_0=T_0, T_mult=T_mult)\n",
        "\n",
        "        # Train\n",
        "        model, metrics = train_model_fold(\n",
        "            model, dataloaders, dataset_sizes,\n",
        "            criterion, optimizer, scheduler,\n",
        "            num_epochs=30, patience=5,\n",
        "            save_dir='checkpoints', fold_idx=fold_idx\n",
        "        )\n",
        "\n",
        "\n",
        "        best_acc = max(metrics['val_acc'])\n",
        "        val_accuracies.append(best_acc)\n",
        "        print(f\"✅ Fold {fold_idx} best val_acc: {best_acc:.4f}\")\n",
        "\n",
        "    avg_val_acc = sum(val_accuracies) / len(val_accuracies)\n",
        "    print(f\"🎯 Trial {trial.number} avg val_acc: {avg_val_acc:.4f}\")\n",
        "\n",
        "    return avg_val_acc"
      ]
    },
    {
      "cell_type": "code",
      "execution_count": null,
      "metadata": {
        "id": "7k3pd2zapp_0"
      },
      "outputs": [],
      "source": [
        "study = optuna.create_study(\n",
        "    direction=\"maximize\",\n",
        "    study_name=\"fire-smoke-opt\",\n",
        "    sampler=optuna.samplers.TPESampler()  # smarter search\n",
        ")\n",
        "\n",
        "study.optimize(objective, n_trials=10)"
      ]
    },
    {
      "cell_type": "markdown",
      "source": [
        "---\n",
        "---\n",
        "---\n",
        "\n"
      ],
      "metadata": {
        "id": "7cJDDCVLKMA2"
      }
    },
    {
      "cell_type": "markdown",
      "source": [
        "# Train on whole dataset\n"
      ],
      "metadata": {
        "id": "z4y8VE8byozz"
      }
    },
    {
      "cell_type": "code",
      "source": [
        "train_images, val_images, train_labels, val_labels = train_test_split(\n",
        "    trainval_images, trainval_labels,\n",
        "    test_size=0.3,  # or 0.3 for 70/30 split\n",
        "    stratify=trainval_labels,\n",
        "    random_state=42\n",
        ")\n",
        "\n",
        "print(f\"Final Split:\")\n",
        "print(f\"Train={len(train_images)}, Val={len(val_images)}, Test={len(test_images)}\")"
      ],
      "metadata": {
        "colab": {
          "base_uri": "https://localhost:8080/"
        },
        "id": "7TPB7dJayoat",
        "outputId": "23aacda3-db0c-4543-ac68-a0f86c44f04f"
      },
      "execution_count": null,
      "outputs": [
        {
          "output_type": "stream",
          "name": "stdout",
          "text": [
            "Final Split:\n",
            "Train=453, Val=195, Test=72\n"
          ]
        }
      ]
    },
    {
      "cell_type": "code",
      "source": [
        "train_dataset = FireDataset(data_pairs=list(zip(train_images, train_labels)), transform=data_transforms['train'])\n",
        "val_dataset = FireDataset(data_pairs=list(zip(val_images, val_labels)), transform=data_transforms['val'])"
      ],
      "metadata": {
        "id": "Nu9dSEPtzQ41"
      },
      "execution_count": null,
      "outputs": []
    },
    {
      "cell_type": "code",
      "source": [
        "def train_model_90(model, dataloaders, dataset_sizes, criterion, optimizer, scheduler,\n",
        "                num_epochs=25, save_dir='checkpoints', patience=5):\n",
        "    import time\n",
        "    import os\n",
        "    since = time.time()\n",
        "\n",
        "    metrics = {\n",
        "        'train_loss': [],\n",
        "        'val_loss': [],\n",
        "        'train_acc': [],\n",
        "        'val_acc': []\n",
        "    }\n",
        "\n",
        "    os.makedirs(save_dir, exist_ok=True)\n",
        "    model_name = \"efficientnetb0\"\n",
        "    best_model_params_path = os.path.join(save_dir, f'best_model_{model_name}.pt')\n",
        "    final_model_path = os.path.join(save_dir, f'final_model_{model_name}.pt')\n",
        "\n",
        "    best_acc = 0.0            # for saving best model\n",
        "    best_loss = float('inf')  # for early stopping\n",
        "    best_epoch = 0\n",
        "    early_stop_counter = 0\n",
        "\n",
        "    print(f'{\"Epoch\":^8} | {\"Train Loss\":^12} | {\"Train Acc\":^10} | {\"Val Loss\":^10} | {\"Val Acc\":^10}')\n",
        "    print('-' * 60)\n",
        "\n",
        "    for epoch in range(num_epochs):\n",
        "        epoch_stats = {}\n",
        "\n",
        "        for phase in ['train', 'val']:\n",
        "            if phase == 'train':\n",
        "                model.train()\n",
        "            else:\n",
        "                model.eval()\n",
        "\n",
        "            running_loss = 0.0\n",
        "            running_corrects = 0\n",
        "\n",
        "            for inputs, labels in dataloaders[phase]:\n",
        "                inputs = inputs.to(device)\n",
        "                labels = labels.to(device)\n",
        "\n",
        "                optimizer.zero_grad()\n",
        "\n",
        "                with torch.set_grad_enabled(phase == 'train'):\n",
        "                    outputs = model(inputs)\n",
        "                    _, preds = torch.max(outputs, 1)\n",
        "                    loss = criterion(outputs, labels)\n",
        "\n",
        "                    if phase == 'train':\n",
        "                        loss.backward()\n",
        "                        optimizer.step()\n",
        "                        scheduler.step()\n",
        "\n",
        "                running_loss += loss.item() * inputs.size(0)\n",
        "                running_corrects += torch.sum(preds == labels.data)\n",
        "\n",
        "            epoch_loss = running_loss / dataset_sizes[phase]\n",
        "            epoch_acc = running_corrects.double() / dataset_sizes[phase]\n",
        "\n",
        "            metrics[f\"{phase}_loss\"].append(epoch_loss)\n",
        "            metrics[f\"{phase}_acc\"].append(epoch_acc.item())\n",
        "\n",
        "            if phase == 'val':\n",
        "                # Save best accuracy model\n",
        "                if epoch_acc > best_acc:\n",
        "                    best_acc = epoch_acc\n",
        "                    best_epoch = epoch\n",
        "                    torch.save(model.state_dict(), best_model_params_path)\n",
        "\n",
        "                # Early stopping based on loss\n",
        "                if epoch_loss < best_loss:\n",
        "                    best_loss = epoch_loss\n",
        "                    early_stop_counter = 0\n",
        "                else:\n",
        "                    early_stop_counter += 1\n",
        "                    print(f\"⚠️ Early stop counter: {early_stop_counter}/{patience}\")\n",
        "\n",
        "            epoch_stats[phase] = (epoch_loss, epoch_acc)\n",
        "\n",
        "        train_loss, train_acc = epoch_stats['train']\n",
        "        val_loss, val_acc = epoch_stats['val']\n",
        "        print(f'{epoch:^8} | {train_loss:^12.4f} | {train_acc:^10.4f} | {val_loss:^10.4f} | {val_acc:^10.4f}')\n",
        "\n",
        "        if early_stop_counter >= patience:\n",
        "            print(f\"\\n⏹️ Early stopping at epoch {epoch} (no improvement for {patience} epochs)\")\n",
        "            break\n",
        "\n",
        "    time_elapsed = time.time() - since\n",
        "    print(f'\\n✅ Training complete in {time_elapsed // 60:.0f}m {time_elapsed % 60:.0f}s')\n",
        "    print(f'🏆 Best val Acc: {best_acc:.4f} (saved at epoch {best_epoch})')\n",
        "\n",
        "    model.load_state_dict(torch.load(best_model_params_path))\n",
        "    torch.save(model.state_dict(), final_model_path)\n",
        "\n",
        "    return model, metrics\n"
      ],
      "metadata": {
        "id": "d0hczjtL1fm5"
      },
      "execution_count": null,
      "outputs": []
    },
    {
      "cell_type": "code",
      "source": [
        "train_loader = DataLoader(train_dataset, batch_size=32, shuffle=True, num_workers=2, pin_memory=True)\n",
        "val_loader = DataLoader(val_dataset, batch_size=32, shuffle=False, num_workers=2, pin_memory=True)"
      ],
      "metadata": {
        "id": "roYKADpr2KK8"
      },
      "execution_count": null,
      "outputs": []
    },
    {
      "cell_type": "code",
      "source": [
        "dataloaders = {'train': train_loader, 'val': val_loader}\n",
        "dataset_sizes = {'train': len(train_dataset), 'val': len(val_dataset)}\n",
        "\n",
        "model, model_name = make_efficientnetb0_model(device, dropout=0.46)\n",
        "\n",
        "criterion = nn.CrossEntropyLoss(label_smoothing=0.01)\n",
        "optimizer = torch.optim.AdamW(model.parameters(), lr=0.000087, weight_decay=0.000014)\n",
        "scheduler = torch.optim.lr_scheduler.CosineAnnealingWarmRestarts(optimizer, T_0=9, T_mult=1)\n",
        "\n",
        "# Train\n",
        "model, metrics = train_model_90(\n",
        "   model, dataloaders, dataset_sizes,\n",
        "   criterion, optimizer, scheduler,\n",
        "   num_epochs=50, patience=5,\n",
        "   save_dir='checkpoints'\n",
        ")"
      ],
      "metadata": {
        "colab": {
          "base_uri": "https://localhost:8080/"
        },
        "id": "zOFMRPrx1L8K",
        "outputId": "80d08fc3-76f0-4019-83bd-69c878673d8b"
      },
      "execution_count": null,
      "outputs": [
        {
          "output_type": "stream",
          "name": "stderr",
          "text": [
            "Downloading: \"https://download.pytorch.org/models/efficientnet_b0_rwightman-7f5810bc.pth\" to /root/.cache/torch/hub/checkpoints/efficientnet_b0_rwightman-7f5810bc.pth\n",
            "100%|██████████| 20.5M/20.5M [00:00<00:00, 194MB/s]"
          ]
        },
        {
          "output_type": "stream",
          "name": "stdout",
          "text": [
            " Epoch   |  Train Loss  | Train Acc  |  Val Loss  |  Val Acc  \n",
            "------------------------------------------------------------\n"
          ]
        },
        {
          "output_type": "stream",
          "name": "stderr",
          "text": [
            "\n"
          ]
        },
        {
          "output_type": "stream",
          "name": "stdout",
          "text": [
            "   0     |    0.6815    |   0.5475   |   0.6752   |   0.6718  \n",
            "   1     |    0.6639    |   0.6424   |   0.6581   |   0.7385  \n",
            "   2     |    0.6393    |   0.7108   |   0.6427   |   0.7846  \n",
            "   3     |    0.6163    |   0.7550   |   0.6230   |   0.7897  \n",
            "   4     |    0.5838    |   0.7859   |   0.5983   |   0.7949  \n",
            "   5     |    0.5715    |   0.7859   |   0.5783   |   0.8051  \n",
            "   6     |    0.5383    |   0.8057   |   0.5540   |   0.8103  \n",
            "   7     |    0.5072    |   0.7991   |   0.5293   |   0.7949  \n",
            "   8     |    0.4871    |   0.8300   |   0.5138   |   0.8154  \n",
            "   9     |    0.4530    |   0.8411   |   0.4836   |   0.8359  \n",
            "   10    |    0.4236    |   0.8344   |   0.4582   |   0.8462  \n",
            "   11    |    0.3981    |   0.8631   |   0.4476   |   0.8410  \n",
            "   12    |    0.3718    |   0.8698   |   0.4261   |   0.8564  \n",
            "   13    |    0.3525    |   0.8808   |   0.4155   |   0.8462  \n",
            "   14    |    0.3367    |   0.8808   |   0.3999   |   0.8615  \n",
            "   15    |    0.3256    |   0.8808   |   0.3681   |   0.8718  \n",
            "   16    |    0.3171    |   0.8985   |   0.3599   |   0.8769  \n",
            "   17    |    0.2817    |   0.8962   |   0.3530   |   0.8718  \n",
            "   18    |    0.2981    |   0.8874   |   0.3206   |   0.8872  \n",
            "⚠️ Early stop counter: 1/5\n",
            "   19    |    0.2703    |   0.9007   |   0.3289   |   0.8821  \n",
            "⚠️ Early stop counter: 2/5\n",
            "   20    |    0.2540    |   0.9117   |   0.3324   |   0.8718  \n",
            "   21    |    0.2421    |   0.9205   |   0.3203   |   0.8872  \n",
            "   22    |    0.2264    |   0.9183   |   0.2767   |   0.9026  \n",
            "⚠️ Early stop counter: 1/5\n",
            "   23    |    0.2245    |   0.9272   |   0.2915   |   0.8974  \n",
            "⚠️ Early stop counter: 2/5\n",
            "   24    |    0.2128    |   0.9294   |   0.2826   |   0.8974  \n",
            "   25    |    0.2186    |   0.9095   |   0.2699   |   0.9026  \n",
            "   26    |    0.2020    |   0.9316   |   0.2438   |   0.9128  \n",
            "   27    |    0.1899    |   0.9382   |   0.2347   |   0.9231  \n",
            "   28    |    0.1934    |   0.9360   |   0.2269   |   0.9231  \n",
            "⚠️ Early stop counter: 1/5\n",
            "   29    |    0.1677    |   0.9536   |   0.2370   |   0.9231  \n",
            "⚠️ Early stop counter: 2/5\n",
            "   30    |    0.1729    |   0.9492   |   0.2339   |   0.9179  \n",
            "⚠️ Early stop counter: 3/5\n",
            "   31    |    0.1581    |   0.9581   |   0.2399   |   0.9026  \n",
            "   32    |    0.1552    |   0.9558   |   0.2088   |   0.9282  \n",
            "   33    |    0.1637    |   0.9382   |   0.2052   |   0.9282  \n",
            "   34    |    0.1503    |   0.9558   |   0.1942   |   0.9385  \n",
            "   35    |    0.1631    |   0.9426   |   0.1914   |   0.9385  \n",
            "   36    |    0.1620    |   0.9470   |   0.1867   |   0.9436  \n",
            "⚠️ Early stop counter: 1/5\n",
            "   37    |    0.1275    |   0.9603   |   0.1899   |   0.9385  \n",
            "⚠️ Early stop counter: 2/5\n",
            "   38    |    0.1557    |   0.9448   |   0.2121   |   0.9282  \n",
            "⚠️ Early stop counter: 3/5\n",
            "   39    |    0.1216    |   0.9735   |   0.2004   |   0.9385  \n",
            "⚠️ Early stop counter: 4/5\n",
            "   40    |    0.1303    |   0.9713   |   0.2034   |   0.9385  \n",
            "   41    |    0.1227    |   0.9735   |   0.1835   |   0.9436  \n",
            "⚠️ Early stop counter: 1/5\n",
            "   42    |    0.1155    |   0.9713   |   0.2222   |   0.9282  \n",
            "⚠️ Early stop counter: 2/5\n",
            "   43    |    0.1275    |   0.9647   |   0.2024   |   0.9385  \n",
            "⚠️ Early stop counter: 3/5\n",
            "   44    |    0.1301    |   0.9603   |   0.2255   |   0.9282  \n",
            "⚠️ Early stop counter: 4/5\n",
            "   45    |    0.1207    |   0.9669   |   0.1872   |   0.9436  \n",
            "⚠️ Early stop counter: 5/5\n",
            "   46    |    0.1092    |   0.9823   |   0.1843   |   0.9487  \n",
            "\n",
            "⏹️ Early stopping at epoch 46 (no improvement for 5 epochs)\n",
            "\n",
            "✅ Training complete in 4m 19s\n",
            "🏆 Best val Acc: 0.9487 (saved at epoch 46)\n"
          ]
        }
      ]
    },
    {
      "cell_type": "markdown",
      "source": [
        "---\n",
        "---\n",
        "---\n",
        "\n"
      ],
      "metadata": {
        "id": "_34wdE-0ynTb"
      }
    },
    {
      "cell_type": "code",
      "source": [
        "import matplotlib.pyplot as plt\n",
        "\n",
        "def plot_training_results(metrics):\n",
        "    epochs = range(1, len(metrics['train_loss']) + 1)\n",
        "\n",
        "    plt.figure(figsize=(12, 5))\n",
        "\n",
        "    plt.style.use('default')\n",
        "\n",
        "    # Plot Loss\n",
        "    plt.subplot(1, 2, 1)\n",
        "    plt.plot(epochs, metrics['train_loss'], label='Train Loss')\n",
        "    plt.plot(epochs, metrics['val_loss'], label='Val Loss')\n",
        "    plt.title('Loss over Epochs')\n",
        "    plt.xlabel('Epoch')\n",
        "    plt.ylabel('Loss')\n",
        "    plt.legend()\n",
        "    plt.grid(True)\n",
        "\n",
        "    # Plot Accuracy\n",
        "    plt.subplot(1, 2, 2)\n",
        "    plt.plot(epochs, metrics['train_acc'], label='Train Acc')\n",
        "    plt.plot(epochs, metrics['val_acc'], label='Val Acc')\n",
        "    plt.title('Accuracy over Epochs')\n",
        "    plt.xlabel('Epoch')\n",
        "    plt.ylabel('Accuracy')\n",
        "    plt.legend()\n",
        "    plt.grid(True)\n",
        "\n",
        "    plt.tight_layout()\n",
        "    plt.show()\n"
      ],
      "metadata": {
        "id": "gkgqa3wg61vj"
      },
      "execution_count": null,
      "outputs": []
    },
    {
      "cell_type": "code",
      "source": [
        "plot_training_results(metrics)"
      ],
      "metadata": {
        "colab": {
          "base_uri": "https://localhost:8080/",
          "height": 465
        },
        "id": "EmyunCDU7DQ1",
        "outputId": "96afc6cd-3c95-4519-f345-252f40598b5b"
      },
      "execution_count": null,
      "outputs": [
        {
          "output_type": "display_data",
          "data": {
            "text/plain": [
              "<Figure size 1200x500 with 2 Axes>"
            ],
            "image/png": "[encoded data removed]"
          },
          "metadata": {}
        }
      ]
    },
    {
      "cell_type": "markdown",
      "metadata": {
        "id": "CDlxVBHBLXXS"
      },
      "source": [
        "# Inference (Test)"
      ]
    },
    {
      "cell_type": "code",
      "execution_count": null,
      "metadata": {
        "id": "nXjsJSLSKiiB"
      },
      "outputs": [],
      "source": [
        "def evaluate_on_test(model, dataloader, device):\n",
        "    model.eval()\n",
        "    all_preds = []\n",
        "    all_labels = []\n",
        "\n",
        "    with torch.no_grad():\n",
        "        for inputs, labels in dataloader:\n",
        "            inputs = inputs.to(device)\n",
        "            labels = labels.to(device)\n",
        "\n",
        "            outputs = model(inputs)\n",
        "            _, preds = torch.max(outputs, 1)\n",
        "\n",
        "            all_preds.extend(preds.cpu().numpy())\n",
        "            all_labels.extend(labels.cpu().numpy())\n",
        "\n",
        "    acc = accuracy_score(all_labels, all_preds)\n",
        "    precision = precision_score(all_labels, all_preds)\n",
        "    recall = recall_score(all_labels, all_preds)\n",
        "    f1 = f1_score(all_labels, all_preds)\n",
        "    cm = confusion_matrix(all_labels, all_preds)\n",
        "\n",
        "    print(f\"\\n🔍 Test Evaluation Metrics:\")\n",
        "    print(f\"Accuracy : {acc:.4f}\")\n",
        "    print(f\"Precision: {precision:.4f}\")\n",
        "    print(f\"Recall   : {recall:.4f}\")\n",
        "    print(f\"F1 Score : {f1:.4f}\")\n",
        "    print(f\"Confusion Matrix:\\n{cm}\")\n",
        "\n",
        "    return acc, precision, recall, f1, cm\n"
      ]
    },
    {
      "cell_type": "code",
      "source": [
        "# Dataset & DataLoader\n",
        "test_dataset = FireDataset(data_pairs=list(zip(test_images, test_labels)), transform=val_test_transforms)\n",
        "test_loader = DataLoader(test_dataset, batch_size=32, shuffle=False)"
      ],
      "metadata": {
        "id": "ezGq_nZVJvRX"
      },
      "execution_count": null,
      "outputs": []
    },
    {
      "cell_type": "code",
      "source": [
        "import seaborn as sns\n",
        "from sklearn.metrics import classification_report, confusion_matrix\n",
        "import matplotlib.pyplot as plt\n",
        "\n",
        "model, _ = make_mobilenetv2_model(device, dropout=0.19)\n",
        "model.load_state_dict(torch.load(\"/content/best_model_emobilenetv2.pt\", map_location=device))\n",
        "model.eval()\n",
        "\n",
        "\n",
        "# Inference\n",
        "y_true = []\n",
        "y_pred = []\n",
        "\n",
        "with torch.no_grad():\n",
        "    for images, labels in test_loader:\n",
        "        images = images.to(device)\n",
        "        outputs = model(images)\n",
        "        _, preds = torch.max(outputs, 1)\n",
        "        y_true.extend(labels)\n",
        "        y_pred.extend(preds.cpu().numpy())\n",
        "\n",
        "# Report\n",
        "print(\"📊 Classification Report:\")\n",
        "print(classification_report(y_true, y_pred, target_names=[\"No Fire\", \"Fire\"]))"
      ],
      "metadata": {
        "colab": {
          "base_uri": "https://localhost:8080/"
        },
        "id": "FsO_65BgK37c",
        "outputId": "cdca8878-8891-4bcd-db93-55321ca61017"
      },
      "execution_count": null,
      "outputs": [
        {
          "output_type": "stream",
          "name": "stdout",
          "text": [
            "📊 Classification Report:\n",
            "              precision    recall  f1-score   support\n",
            "\n",
            "     No Fire       0.91      0.89      0.90        36\n",
            "        Fire       0.89      0.92      0.90        36\n",
            "\n",
            "    accuracy                           0.90        72\n",
            "   macro avg       0.90      0.90      0.90        72\n",
            "weighted avg       0.90      0.90      0.90        72\n",
            "\n"
          ]
        }
      ]
    },
    {
      "cell_type": "code",
      "source": [
        "# Confusion Matrix\n",
        "cm = confusion_matrix(y_true, y_pred)\n",
        "plt.figure(figsize=(6,5))\n",
        "sns.heatmap(cm, annot=True, fmt=\"d\", cmap=\"Blues\", xticklabels=[\"No Fire\", \"Fire\"], yticklabels=[\"No Fire\", \"Fire\"])\n",
        "plt.xlabel(\"Predicted\")\n",
        "plt.ylabel(\"Actual\")\n",
        "plt.title(\"Confusion Matrix on Test Set\")\n",
        "plt.show()"
      ],
      "metadata": {
        "colab": {
          "base_uri": "https://localhost:8080/",
          "height": 487
        },
        "id": "T1pgfPnwPgCT",
        "outputId": "754b46fc-9ed0-46f8-cbc2-3eb5345a91bf"
      },
      "execution_count": null,
      "outputs": [
        {
          "output_type": "display_data",
          "data": {
            "text/plain": [
              "<Figure size 600x500 with 2 Axes>"
            ],
            "image/png": "[encoded data removed]"
          },
          "metadata": {}
        }
      ]
    }
  ],
  "metadata": {
    "accelerator": "GPU",
    "colab": {
      "collapsed_sections": [
        "yrUzMv6RFyhH"
      ],
      "gpuType": "T4",
      "provenance": [],
      "include_colab_link": true
    },
    "kernelspec": {
      "display_name": "Python 3",
      "name": "python3"
    },
    "language_info": {
      "name": "python"
    }
  },
  "nbformat": 4,
  "nbformat_minor": 0
}