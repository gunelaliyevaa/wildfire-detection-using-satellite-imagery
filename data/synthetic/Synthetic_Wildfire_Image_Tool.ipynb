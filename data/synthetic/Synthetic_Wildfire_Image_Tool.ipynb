{
 "cells": [
  {
   "cell_type": "code",
   "execution_count": null,
   "id": "0e449c5d",
   "metadata": {},
   "outputs": [],
   "source": [
    "import cv2\n",
    "import numpy as np\n",
    "\n",
    "def compute_smoke_mask(normal_image, fire_image):\n",
    "    normal_gray = cv2.cvtColor(normal_image, cv2.COLOR_BGR2GRAY)\n",
    "    fire_gray = cv2.cvtColor(fire_image, cv2.COLOR_BGR2GRAY)\n",
    "    diff = cv2.absdiff(fire_gray, normal_gray)\n",
    "    _, smoke_mask = cv2.threshold(diff, 30, 255, cv2.THRESH_BINARY)\n",
    "    smoke_mask = cv2.GaussianBlur(smoke_mask, (51, 51), 0)\n",
    "    return smoke_mask\n",
    "\n",
    "def blend_smoke(normal_image, fire_image, smoke_mask):\n",
    "    smoke_mask_3channel = cv2.merge([smoke_mask, smoke_mask, smoke_mask]) / 255.0\n",
    "    smoke = cv2.bitwise_and(fire_image, fire_image, mask=smoke_mask)\n",
    "    blended_image = (normal_image.astype(float) * (1 - smoke_mask_3channel) +\n",
    "                     smoke.astype(float) * smoke_mask_3channel).astype(np.uint8)\n",
    "    return blended_image\n",
    "\n",
    "normal_image = cv2.imread('no_fire_image_path.png')\n",
    "fire_image = cv2.imread('fire_image_path.png')\n",
    "\n",
    "if normal_image is None:\n",
    "    raise FileNotFoundError(\"Error: 'nofire.png' not found or could not be loaded.\")\n",
    "if fire_image is None:\n",
    "    raise FileNotFoundError(\"Error: 'fire.png' not found or could not be loaded.\")\n",
    "\n",
    "fire_image_resized = cv2.resize(fire_image, (normal_image.shape[1], normal_image.shape[0]))\n",
    "smoke_mask = compute_smoke_mask(normal_image, fire_image_resized)\n",
    "cv2.imwrite('smoke_mask_debug.png', smoke_mask)\n",
    "result_image = blend_smoke(normal_image, fire_image_resized, smoke_mask)\n",
    "cv2.imwrite('output_image_name.png', result_image, [cv2.IMWRITE_PNG_COMPRESSION, 0])\n",
    "cv2.imshow('Smoke Mask', smoke_mask)\n",
    "cv2.imshow('Result Image', result_image)\n",
    "cv2.waitKey(0)\n",
    "cv2.destroyAllWindows()\n"
   ]
  }
 ],
 "metadata": {
  "kernelspec": {
   "display_name": "Python 3 (ipykernel)",
   "language": "python",
   "name": "python3"
  },
  "language_info": {
   "codemirror_mode": {
    "name": "ipython",
    "version": 3
   },
   "file_extension": ".py",
   "mimetype": "text/x-python",
   "name": "python",
   "nbconvert_exporter": "python",
   "pygments_lexer": "ipython3",
   "version": "3.11.5"
  }
 },
 "nbformat": 4,
 "nbformat_minor": 5
}
