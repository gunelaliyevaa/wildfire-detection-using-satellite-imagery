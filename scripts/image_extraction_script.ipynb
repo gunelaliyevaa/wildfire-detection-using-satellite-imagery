{
  "nbformat": 4,
  "nbformat_minor": 0,
  "metadata": {
    "colab": {
      "provenance": []
    },
    "kernelspec": {
      "name": "python3",
      "display_name": "Python 3 (ipykernel)",
      "language": "python"
    },
    "language_info": {
      "name": "python"
    }
  },
  "cells": [
    {
      "cell_type": "markdown",
      "source": [
        "# Fire Event Capture and Visualization using Sentinel-2 Imagery\n",
        "\n",
        "This notebook processes wildfire data using Sentinel-2 imagery. It masks clouds, generates rectangular areas around fire points(~1km), and creates URLs for visualized images.\n",
        "\n",
        "## Key Functions\n",
        "\n",
        "- **`auth_engine_init(project_id)`**: Authenticates and initializes the Earth Engine.\n",
        "- **`load_fire_data(csv_path)`**: Loads fire data from a CSV file.\n",
        "- **`fetch_image_collection(longitude, latitude, start_date, end_date, buffer)`**: Fetches an image collection for a fire event.\n",
        "- **`generate_image_url(collection, rectangle)`**: Generates a visualization URL for a clipped image.\n",
        "- **`process_fire_events(fire_df)`**: Processes fire data and retrieves image URLs.\n",
        "- **`download_images(img_urls)`**: Downloads images from generated URLs.\n",
        "\n",
        "## Usage\n",
        "\n",
        "1. Open Script In Colab: https://colab.research.google.com/github/gunelaliyevaa/wildfire-detection-using-satellite-imagery/blob/main/scripts/image_extraction_script.ipynb\n",
        "\n",
        "2. Set the project ID and CSV paths in the `main()` function.\n",
        "3. Run `main()` to process the data and download images.\n"
      ],
      "metadata": {
        "id": "AMvUV8USGFJH"
      }
    },
    {
      "cell_type": "code",
      "source": [
        "import os\n",
        "import ee\n",
        "import pandas as pd\n",
        "import requests\n",
        "from concurrent.futures import ThreadPoolExecutor, as_completed\n",
        "\n",
        "def auth_earth_engine(project_id):\n",
        "    \"\"\"Authenticates and initializes Google Earth Engine.\"\"\"\n",
        "    ee.Authenticate()\n",
        "    ee.Initialize(project=project_id)\n",
        "\n",
        "def load_fire_data(csv_path):\n",
        "    \"\"\"Loads fire event data from a CSV file.\"\"\"\n",
        "    return pd.read_csv(csv_path)\n",
        "\n",
        "def create_rectangle(longitude, latitude, buffer=0.02):\n",
        "    \"\"\"Creates a rectangle bounding box around the given coordinates.\"\"\"\n",
        "    return ee.Geometry.Rectangle([\n",
        "        longitude - buffer,\n",
        "        latitude - buffer,\n",
        "        longitude + buffer,\n",
        "        latitude + buffer\n",
        "    ])\n",
        "\n",
        "def fetch_image_collection(longitude, latitude, start_date, end_date, buffer=0.02):\n",
        "    \"\"\"Fetches Sentinel-2 images for the given location and date range.\"\"\"\n",
        "    rectangle = create_rectangle(longitude, latitude, buffer)\n",
        "    collection = (ee.ImageCollection('COPERNICUS/S2_SR_HARMONIZED')\n",
        "                  .filterBounds(rectangle)\n",
        "                  .filterDate(start_date, end_date)\n",
        "                  .filter(ee.Filter.lt('CLOUDY_PIXEL_PERCENTAGE', 15))\n",
        "                  .map(lambda img: img.divide(10000)))  # Normalize\n",
        "    return collection, rectangle\n",
        "\n",
        "def process_image(collection, rectangle):\n",
        "    \"\"\"Processes the image collection by selecting RGB bands and clipping.\"\"\"\n",
        "    if collection.size().getInfo() > 0:\n",
        "        return collection.median().select(['B4', 'B3', 'B2']).clip(rectangle)\n",
        "    return None\n",
        "\n",
        "def generate_download_url(image, rectangle):\n",
        "    \"\"\"Generates a download URL for the processed image.\"\"\"\n",
        "    return image.getThumbURL({\n",
        "        'min': 0, 'max': 0.5,\n",
        "        'dimensions': 512,\n",
        "        'region': rectangle,\n",
        "        'format': 'png'\n",
        "    })\n",
        "\n",
        "def download_image(url, output_dir, filename):\n",
        "    \"\"\"Downloads an image from the given URL and saves it.\"\"\"\n",
        "    file_path = os.path.join(output_dir, filename)\n",
        "    try:\n",
        "        response = requests.get(url, stream=True)\n",
        "        response.raise_for_status()\n",
        "        with open(file_path, 'wb') as f:\n",
        "            for chunk in response.iter_content(1024):\n",
        "                f.write(chunk)\n",
        "        print(f\"Downloaded: {file_path}\")\n",
        "    except requests.RequestException as e:\n",
        "        print(f\"Failed to download {filename}: {e}\")\n",
        "\n",
        "def process_fire_event(row, output_dir):\n",
        "    \"\"\"Processes a single fire event and downloads the corresponding image.\"\"\"\n",
        "    latitude, longitude = row['latitude'], row['longitude']\n",
        "    acq_date = pd.to_datetime(row['acq_date'])\n",
        "\n",
        "    start_date = (acq_date - pd.DateOffset(days=1)).strftime('%Y-%m-%d')\n",
        "    end_date = (acq_date + pd.DateOffset(days=1)).strftime('%Y-%m-%d')\n",
        "\n",
        "    collection, rectangle = fetch_image_collection(longitude, latitude, start_date, end_date)\n",
        "    image = process_image(collection, rectangle)\n",
        "\n",
        "    if image:\n",
        "        url = generate_download_url(image, rectangle)\n",
        "        filename = f\"{latitude}_{longitude}.png\"\n",
        "        download_image(url, output_dir, filename)\n",
        "\n",
        "def process_fire_events_concurrently(fire_df, output_dir, max_workers=5):\n",
        "    \"\"\"Processes fire events concurrently using a thread pool.\"\"\"\n",
        "    os.makedirs(output_dir, exist_ok=True)\n",
        "    with ThreadPoolExecutor(max_workers=max_workers) as executor:\n",
        "        futures = {executor.submit(process_fire_event, row, output_dir): row for _, row in fire_df.iterrows()}\n",
        "        for future in as_completed(futures):\n",
        "            try:\n",
        "                future.result()\n",
        "            except Exception as e:\n",
        "                print(f\"Error processing event: {e}\")\n",
        "\n",
        "def main():\n",
        "    \"\"\"Main function orchestrating the process.\"\"\"\n",
        "    project_id = 'wildfire-detection-ml'\n",
        "    csv_path = '/Users/gunelaliyeva/PycharmProjects/wildfire-detection-using-satellite-imagery-main/data/raw/j2_viirs/2024_fire_nrt_J2V-C2_539017.csv'\n",
        "    output_folder = 'img_folder'\n",
        "\n",
        "    auth_earth_engine(project_id)\n",
        "    fire_data = load_fire_data(csv_path)\n",
        "    process_fire_events_concurrently(fire_data, output_folder, max_workers=5)\n",
        "\n",
        "if __name__ == \"__main__\":\n",
        "    main()\n"
      ],
      "metadata": {
        "id": "kayr9wBsmMGs"
      },
      "outputs": [],
      "execution_count": null
    },
    {
      "cell_type": "markdown",
      "source": [
        "\n",
        "The command `!zip -r my_folder.zip my_folder` creates a compressed ZIP archive of the folder `my_folder`. This will be helpful for downloading the extracted images to your local machine in a single file."
      ],
      "metadata": {
        "id": "Xue9wm0KL5Fn"
      }
    },
    {
      "metadata": {
        "id": "4-2Jlm7YFpqk"
      },
      "cell_type": "code",
      "source": [
        "!zip -r MODIS_Images_2024.zip MODIS_Images_2024"
      ],
      "outputs": [],
      "execution_count": null
    },
    {
      "cell_type": "code",
      "source": [
        "import shutil\n",
        "\n",
        "# Specify the folder to remove\n",
        "folder_to_remove = 'SUOMI_VIIRS_IMAGES_2023'\n",
        "\n",
        "# Remove the folder and its contents\n",
        "shutil.rmtree(folder_to_remove)\n",
        "print(f\"Folder '{folder_to_remove}' and its contents have been removed.\")"
      ],
      "metadata": {
        "id": "vFO8UDvRqTQm"
      },
      "outputs": [],
      "execution_count": null
    }
  ]
}