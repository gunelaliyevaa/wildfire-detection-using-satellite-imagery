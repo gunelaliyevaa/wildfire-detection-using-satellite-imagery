{
 "nbformat": 4,
 "nbformat_minor": 0,
 "metadata": {
  "colab": {
   "provenance": []
  },
  "kernelspec": {
   "name": "python3",
   "display_name": "Python 3 (ipykernel)",
   "language": "python"
  },
  "language_info": {
   "name": "python"
  }
 },
 "cells": [
  {
   "metadata": {
    "id": "AMvUV8USGFJH"
   },
   "cell_type": "markdown",
   "source": [
    "# Fire Event Capture and Visualization using Sentinel-2 Imagery\n",
    "This notebook showcases how to use **Google Earth Engine (GEE)** and  **Sentinel-2** data to analyze wildfire events based on **MODIS/VIIRS** fire data. We will load fire event data, extract relevant imagery, visualize the affected area, and download satellite images.\n",
    "\n",
    "## How to set up?\n",
    "\n",
    "1. Open Script In Colab: https://colab.research.google.com/github/gunelaliyevaa/wildfire-detection-using-satellite-imagery/blob/main/scripts/image_extraction_script.ipynb\n",
    "2. Clone the repository\n",
    "3. Install dependencies\n",
    "4. Import the dataset processing library"
   ]
  },
  {
   "metadata": {},
   "cell_type": "markdown",
   "source": [
    "### Set Up\n",
    "Clone the repository and install necessary dependencies to get started.\n"
   ]
  },
  {
   "metadata": {},
   "cell_type": "code",
   "source": "!git clone https://github.com/gunelaliyevaa/wildfire-detection-using-satellite-imagery.git",
   "outputs": [],
   "execution_count": null
  },
  {
   "metadata": {},
   "cell_type": "markdown",
   "source": "Change the working directory to the actual project folder."
  },
  {
   "metadata": {},
   "cell_type": "code",
   "source": "%cd wildfire-detection-using-satellite-imagery",
   "outputs": [],
   "execution_count": null
  },
  {
   "metadata": {},
   "cell_type": "markdown",
   "source": "Install the custom dataset processing library (dataset_processing_lib) from the cloned repository."
  },
  {
   "metadata": {},
   "cell_type": "code",
   "source": "!pip install ./dataset_processing_lib",
   "outputs": [],
   "execution_count": null
  },
  {
   "metadata": {},
   "cell_type": "markdown",
   "source": "Import the modules used in the project including dataset_processing_lib."
  },
  {
   "metadata": {},
   "cell_type": "code",
   "source": [
    "import os\n",
    "import ee\n",
    "import pandas as pd\n",
    "import requests\n",
    "import dataset_processing_lib as dpl\n",
    "from concurrent.futures import ThreadPoolExecutor, as_completed"
   ],
   "outputs": [],
   "execution_count": null
  },
  {
   "metadata": {},
   "cell_type": "markdown",
   "source": [
    "The variable `collection` defines the satellite image collection that we will use from Google Earth Engine (GEE). _COPERNICUS/S2_SR_HARMONIZED_ refers to the Sentinel-2 Surface Reflectance dataset, which provides high-resolution satellite imagery *corrected for atmospheric conditions*(?).\n",
    "<br>\n",
    "<br>\n",
    "Sentinel-2 is widely used for wildfire detection because it captures visible, near-infrared (NIR), and shortwave infrared (SWIR) bands, which help in detecting burn scars and active fire areas. There are many other image collections available in GEE that you can utilize depending on your needs. Visit __[Google Earth Engine Data Catalog](https://developers.google.com/earth-engine/datasets)__ to search for other available datasets."
   ]
  },
  {
   "metadata": {},
   "cell_type": "markdown",
   "source": [
    "The variable `project` defines the Google Earth Engine project ID used for authentication and resource access. Google Earth Engine requires users to specify a project to track resource usage, API calls, and storage. The project ID is linked to your Google Cloud Platform (GCP) account.\n",
    "<br>\n",
    "<div class=\"alert alert-block alert-info\">\n",
    "<b> How to create a new Google Cloud Project? </b> <br>\n",
    "1. Go to <a href = \"https://console.cloud.google.com/\"> Google Cloud Console</a> <br>\n",
    "2. Click \"Select a project\" → \"New Project\". <br>\n",
    "3. Enter your project credentials. <br>\n",
    "4. Copy your Project ID and replace 'wildfire-detection-ml' if necessary.\n",
    "</div>\n",
    "\n"
   ]
  },
  {
   "metadata": {},
   "cell_type": "markdown",
   "source": " `data_path` variable stores the URL of the fire event dataset (CSV file), which contains geospatial and satellite information about fire incidents. The csv files are obtained from NASA’s Fire Information for Resource Management System (FIRMS). It provides near real-time fire detection alerts based on satellite observations. The data is collected using multiple Earth observation instruments,MODIS and VIIRS, each with different spatial and temporal resolutions. Data can be requested from __[NASA FIRMS](https://firms.modaps.eosdis.nasa.gov/download/)__ by specifying the area of interest, instrument, and a date range."
  },
  {
   "metadata": {},
   "cell_type": "code",
   "source": [
    "collection = 'COPERNICUS/S2_SR_HARMONIZED'\n",
    "project = 'wildfire-detection-ml'\n",
    "data_path = 'https://raw.githubusercontent.com/gunelaliyevaa/wildfire-detection-using-satellite-imagery/main/data/raw/j2_viirs/2024_fire_nrt_J2V-C2_539017.csv'\n",
    "output_folder = 'img_folder'"
   ],
   "outputs": [],
   "execution_count": null
  },
  {
   "metadata": {},
   "cell_type": "code",
   "source": [
    "df = pd.read_csv(data_path)\n",
    "df.head()"
   ],
   "outputs": [],
   "execution_count": null
  },
  {
   "metadata": {},
   "cell_type": "code",
   "source": [
    "ee.Authenticate()\n",
    "ee.Initialize(project=project)"
   ],
   "outputs": [],
   "execution_count": null
  },
  {
   "metadata": {},
   "cell_type": "markdown",
   "source": "---"
  },
  {
   "metadata": {
    "ExecuteTime": {
     "end_time": "2025-02-20T09:40:26.117716Z",
     "start_time": "2025-02-20T09:40:26.114160Z"
    }
   },
   "cell_type": "code",
   "source": [
    "def get_satellite_collection(longitude, latitude, start_date, end_date, buffer=0.02, bands=['B4', 'B3', 'B2']):\n",
    "    \"\"\"Fetches Sentinel-2 images for the given location and date range.\"\"\"\n",
    "    geometry = ee.Geometry.Rectangle([\n",
    "        longitude - buffer,\n",
    "        latitude - buffer,\n",
    "        longitude + buffer,\n",
    "       latitude + buffer\n",
    "    ])\n",
    "\n",
    "    # geometry = ee.Geometry.Point([longitude, latitude]).buffer(buffer).bounds()\n",
    "\n",
    "    filtered_collection = (ee.ImageCollection(collection)\n",
    "                           .filterBounds(geometry)\n",
    "                           .filterDate(start_date, end_date)\n",
    "                           .filterMetadata('CLOUDY_PIXEL_PERCENTAGE', 'less_than', 15)\n",
    "                           .map(lambda img: img.divide(10000)))  # Normalize\n",
    "    if filtered_collection.size().getInfo() == 0:\n",
    "        return None, None\n",
    "\n",
    "    return filtered_collection.median().select(bands).clip(geometry), geometry"
   ],
   "outputs": [],
   "execution_count": 45
  },
  {
   "metadata": {},
   "cell_type": "markdown",
   "source": "---"
  },
  {
   "metadata": {
    "ExecuteTime": {
     "end_time": "2025-02-20T09:39:10.001060Z",
     "start_time": "2025-02-20T09:39:09.996886Z"
    }
   },
   "cell_type": "code",
   "source": [
    "# import these functions from utils\n",
    "def generate_download_url(image, rectangle):\n",
    "    \"\"\"Generates a download URL for the processed image.\"\"\"\n",
    "    return image.getThumbURL({\n",
    "        'min': 0,\n",
    "        'max': 0.5,\n",
    "        'dimensions': 512,\n",
    "        'format': 'png',\n",
    "        'bands': ['B4', 'B3', 'B2'],\n",
    "        'region': rectangle\n",
    "    })\n",
    "\n",
    "def download_image(url):\n",
    "    \"\"\"Downloads an image from the given URL and returns the content as bytes.\"\"\"\n",
    "    try:\n",
    "        response = requests.get(url, stream=True)\n",
    "        response.raise_for_status()\n",
    "        return response.content\n",
    "    except requests.RequestException as e:\n",
    "        print(f\"Failed to download image: {e}\")\n",
    "        return None\n",
    "\n",
    "def save_image(image_content, output_dir, filename):\n",
    "    \"\"\"Saves the given image content to the specified directory with the given filename.\"\"\"\n",
    "    if image_content is None:\n",
    "        print(f\"Skipping save: No content for {filename}\")\n",
    "        return\n",
    "\n",
    "    os.makedirs(output_dir, exist_ok=True)\n",
    "    file_path = os.path.join(output_dir, filename)\n",
    "\n",
    "    try:\n",
    "        with open(file_path, 'wb') as f:\n",
    "            f.write(image_content)\n",
    "        print(f\"Saved: {file_path}\")\n",
    "    except OSError as e:\n",
    "        print(f\"Failed to save {filename}: {e}\")"
   ],
   "outputs": [],
   "execution_count": 42
  },
  {
   "metadata": {},
   "cell_type": "markdown",
   "source": "---"
  },
  {
   "metadata": {
    "ExecuteTime": {
     "end_time": "2025-02-20T09:39:12.463958Z",
     "start_time": "2025-02-20T09:39:12.460237Z"
    }
   },
   "cell_type": "code",
   "source": [
    "def process_single_event(row, output_dir):\n",
    "    \"\"\"Processes a single fire event and downloads the corresponding image.\"\"\"\n",
    "    try:\n",
    "        longitude, latitude = row['longitude'], row['latitude']\n",
    "        acq_date = pd.to_datetime(row['acq_date'])\n",
    "\n",
    "        start_date = (acq_date - pd.DateOffset(days=1)).strftime('%Y-%m-%d')\n",
    "        end_date = (acq_date + pd.DateOffset(days=1)).strftime('%Y-%m-%d')\n",
    "\n",
    "        image, geometry = get_satellite_collection(\n",
    "            longitude=longitude,\n",
    "            latitude=latitude,\n",
    "            start_date=start_date,\n",
    "            end_date=end_date,\n",
    "        )\n",
    "\n",
    "        if not image:\n",
    "            return None\n",
    "\n",
    "        filename = f\"{row['latitude']}_{row['longitude']}_{acq_date.date()}.png\"\n",
    "        output_path = os.path.join(output_dir, filename)\n",
    "\n",
    "        url = generate_download_url(image, geometry)\n",
    "        image_content = download_image(url)  # Now returns the image content (bytes)\n",
    "\n",
    "        if image_content:\n",
    "            save_image(image_content, output_dir, filename)\n",
    "            return output_path\n",
    "\n",
    "        return None\n",
    "\n",
    "    except Exception as e:\n",
    "        print(f\"Error processing event: {str(e)}\")\n",
    "        return None\n",
    "\n",
    "def process_event_batch(fire_df, output_dir, max_workers=5):\n",
    "    \"\"\"Processes fire events concurrently using a thread pool.\"\"\"\n",
    "    with ThreadPoolExecutor(max_workers=max_workers) as executor:\n",
    "        futures = [\n",
    "            executor.submit(process_single_event, row, output_dir)\n",
    "            for _, row in fire_df.iterrows()\n",
    "        ]\n",
    "        return [f.result() for f in as_completed(futures)]"
   ],
   "outputs": [],
   "execution_count": 43
  },
  {
   "metadata": {},
   "cell_type": "markdown",
   "source": "---"
  },
  {
   "metadata": {},
   "cell_type": "code",
   "source": "process_event_batch(df, output_folder, max_workers=5)",
   "outputs": [],
   "execution_count": null
  },
  {
   "cell_type": "markdown",
   "source": [
    "\n",
    "The command `!zip -r my_folder.zip my_folder` creates a compressed ZIP archive of the folder `my_folder`. This will be helpful for downloading the extracted images to your local machine in a single folder."
   ],
   "metadata": {
    "id": "Xue9wm0KL5Fn"
   }
  },
  {
   "metadata": {
    "id": "4-2Jlm7YFpqk"
   },
   "cell_type": "code",
   "source": "# !zip -r MODIS_Images_2024.zip MODIS_Images_2024",
   "outputs": [],
   "execution_count": null
  },
  {
   "cell_type": "code",
   "source": [
    "# import shutil\n",
    "\n",
    "# Specify the folder to remove\n",
    "# folder_to_remove = 'SUOMI_VIIRS_IMAGES_2023'\n",
    "\n",
    "# Remove the folder and its contents\n",
    "# shutil.rmtree(folder_to_remove)\n",
    "# print(f\"Folder '{folder_to_remove}' and its contents have been removed.\")"
   ],
   "metadata": {
    "id": "vFO8UDvRqTQm"
   },
   "outputs": [],
   "execution_count": null
  }
 ]
}
